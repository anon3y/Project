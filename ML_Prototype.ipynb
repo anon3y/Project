{
  "nbformat": 4,
  "nbformat_minor": 0,
  "metadata": {
    "colab": {
      "name": "ML_Prototype.ipynb",
      "provenance": [],
      "collapsed_sections": []
    },
    "kernelspec": {
      "name": "python3",
      "display_name": "Python 3"
    },
    "accelerator": "GPU"
  },
  "cells": [
    {
      "cell_type": "code",
      "metadata": {
        "id": "BiYh3aYth6n4",
        "colab_type": "code",
        "colab": {}
      },
      "source": [
        "from sklearn.metrics import accuracy_score, confusion_matrix\n",
        "from sklearn.model_selection import GridSearchCV\n",
        "from sklearn.ensemble import RandomForestClassifier\n",
        "import xgboost\n",
        "from sklearn.model_selection import train_test_split\n",
        "from  sklearn.preprocessing import LabelEncoder\n",
        "from sklearn.metrics import accuracy_score, confusion_matrix\n",
        "import pandas as pd\n",
        "import numpy as np\n",
        "import matplotlib.pyplot as plt\n",
        "import sklearn\n",
        "import seaborn as sns\n",
        "from sklearn.decomposition import PCA"
      ],
      "execution_count": 0,
      "outputs": []
    },
    {
      "cell_type": "code",
      "metadata": {
        "id": "FuETsc1N-m43",
        "colab_type": "code",
        "outputId": "67869f55-85a7-4e1f-cd1e-f08abe1d2103",
        "colab": {
          "base_uri": "https://localhost:8080/",
          "height": 125
        }
      },
      "source": [
        "from google.colab import drive\n",
        "drive.mount('/content/gdrive')"
      ],
      "execution_count": 0,
      "outputs": [
        {
          "output_type": "stream",
          "text": [
            "Go to this URL in a browser: https://accounts.google.com/o/oauth2/auth?client_id=947318989803-6bn6qk8qdgf4n4g3pfee6491hc0brc4i.apps.googleusercontent.com&redirect_uri=urn%3Aietf%3Awg%3Aoauth%3A2.0%3Aoob&scope=email%20https%3A%2F%2Fwww.googleapis.com%2Fauth%2Fdocs.test%20https%3A%2F%2Fwww.googleapis.com%2Fauth%2Fdrive%20https%3A%2F%2Fwww.googleapis.com%2Fauth%2Fdrive.photos.readonly%20https%3A%2F%2Fwww.googleapis.com%2Fauth%2Fpeopleapi.readonly&response_type=code\n",
            "\n",
            "Enter your authorization code:\n",
            "··········\n",
            "Mounted at /content/gdrive\n"
          ],
          "name": "stdout"
        }
      ]
    },
    {
      "cell_type": "markdown",
      "metadata": {
        "id": "ood-FQm_rIEa",
        "colab_type": "text"
      },
      "source": [
        "<b> Import data From Data Wrangling Notebook</b>"
      ]
    },
    {
      "cell_type": "code",
      "metadata": {
        "id": "3ODs2RjVrNJv",
        "colab_type": "code",
        "colab": {}
      },
      "source": [
        "data_df = pd.read_csv(\"/content/gdrive/My Drive/Data/dataformodel.csv\")"
      ],
      "execution_count": 0,
      "outputs": []
    },
    {
      "cell_type": "markdown",
      "metadata": {
        "id": "mL9ZXnSssKaZ",
        "colab_type": "text"
      },
      "source": [
        "<li>Preview of Data frame</li>"
      ]
    },
    {
      "cell_type": "code",
      "metadata": {
        "id": "41v09umsrh2t",
        "colab_type": "code",
        "outputId": "874dc815-524a-440d-c67e-b9d78268d6a9",
        "colab": {
          "base_uri": "https://localhost:8080/",
          "height": 217
        }
      },
      "source": [
        "data_df.head(5)"
      ],
      "execution_count": 0,
      "outputs": [
        {
          "output_type": "execute_result",
          "data": {
            "text/html": [
              "<div>\n",
              "<style scoped>\n",
              "    .dataframe tbody tr th:only-of-type {\n",
              "        vertical-align: middle;\n",
              "    }\n",
              "\n",
              "    .dataframe tbody tr th {\n",
              "        vertical-align: top;\n",
              "    }\n",
              "\n",
              "    .dataframe thead th {\n",
              "        text-align: right;\n",
              "    }\n",
              "</style>\n",
              "<table border=\"1\" class=\"dataframe\">\n",
              "  <thead>\n",
              "    <tr style=\"text-align: right;\">\n",
              "      <th></th>\n",
              "      <th>0</th>\n",
              "      <th>1</th>\n",
              "      <th>2</th>\n",
              "      <th>3</th>\n",
              "      <th>4</th>\n",
              "      <th>5</th>\n",
              "      <th>6</th>\n",
              "      <th>7</th>\n",
              "      <th>8</th>\n",
              "      <th>9</th>\n",
              "      <th>10</th>\n",
              "      <th>11</th>\n",
              "      <th>12</th>\n",
              "      <th>13</th>\n",
              "      <th>14</th>\n",
              "      <th>15</th>\n",
              "      <th>16</th>\n",
              "      <th>17</th>\n",
              "      <th>18</th>\n",
              "      <th>19</th>\n",
              "      <th>Actor_Gender_code</th>\n",
              "      <th>Emotion_code</th>\n",
              "      <th>Emotional_intensity_code</th>\n",
              "      <th>Gender_label</th>\n",
              "      <th>Emotion_label</th>\n",
              "      <th>Intensity_label</th>\n",
              "      <th>x</th>\n",
              "      <th>y</th>\n",
              "      <th>cluster</th>\n",
              "    </tr>\n",
              "  </thead>\n",
              "  <tbody>\n",
              "    <tr>\n",
              "      <th>0</th>\n",
              "      <td>-726.217274</td>\n",
              "      <td>68.541416</td>\n",
              "      <td>3.293398</td>\n",
              "      <td>12.205299</td>\n",
              "      <td>5.510278</td>\n",
              "      <td>13.667407</td>\n",
              "      <td>-2.983828</td>\n",
              "      <td>3.098029</td>\n",
              "      <td>-3.310813</td>\n",
              "      <td>-1.564385</td>\n",
              "      <td>-7.861652</td>\n",
              "      <td>-2.124282</td>\n",
              "      <td>2.849204</td>\n",
              "      <td>-2.667807</td>\n",
              "      <td>0.959020</td>\n",
              "      <td>1.628166</td>\n",
              "      <td>-2.736689</td>\n",
              "      <td>0.254240</td>\n",
              "      <td>2.675377</td>\n",
              "      <td>-1.761166</td>\n",
              "      <td>1</td>\n",
              "      <td>1</td>\n",
              "      <td>1</td>\n",
              "      <td>Male</td>\n",
              "      <td>neutral</td>\n",
              "      <td>normal</td>\n",
              "      <td>2.442386</td>\n",
              "      <td>-0.006188</td>\n",
              "      <td>1</td>\n",
              "    </tr>\n",
              "    <tr>\n",
              "      <th>1</th>\n",
              "      <td>-719.127814</td>\n",
              "      <td>70.202235</td>\n",
              "      <td>1.169072</td>\n",
              "      <td>13.123214</td>\n",
              "      <td>7.837617</td>\n",
              "      <td>14.411951</td>\n",
              "      <td>-4.110705</td>\n",
              "      <td>4.469618</td>\n",
              "      <td>-3.538731</td>\n",
              "      <td>-3.657982</td>\n",
              "      <td>-7.647889</td>\n",
              "      <td>-1.476476</td>\n",
              "      <td>3.032409</td>\n",
              "      <td>-2.461295</td>\n",
              "      <td>0.595291</td>\n",
              "      <td>0.978989</td>\n",
              "      <td>-2.835643</td>\n",
              "      <td>0.074318</td>\n",
              "      <td>1.759796</td>\n",
              "      <td>-2.062723</td>\n",
              "      <td>1</td>\n",
              "      <td>1</td>\n",
              "      <td>1</td>\n",
              "      <td>Male</td>\n",
              "      <td>neutral</td>\n",
              "      <td>normal</td>\n",
              "      <td>2.381119</td>\n",
              "      <td>-0.167988</td>\n",
              "      <td>1</td>\n",
              "    </tr>\n",
              "    <tr>\n",
              "      <th>2</th>\n",
              "      <td>-714.994923</td>\n",
              "      <td>69.690371</td>\n",
              "      <td>3.925558</td>\n",
              "      <td>11.925323</td>\n",
              "      <td>6.423344</td>\n",
              "      <td>11.014113</td>\n",
              "      <td>-2.874455</td>\n",
              "      <td>4.514386</td>\n",
              "      <td>-4.470306</td>\n",
              "      <td>-2.665094</td>\n",
              "      <td>-7.492452</td>\n",
              "      <td>-2.955175</td>\n",
              "      <td>1.880886</td>\n",
              "      <td>-2.905068</td>\n",
              "      <td>0.533953</td>\n",
              "      <td>1.381326</td>\n",
              "      <td>-2.356382</td>\n",
              "      <td>-2.012536</td>\n",
              "      <td>1.609709</td>\n",
              "      <td>-1.555485</td>\n",
              "      <td>1</td>\n",
              "      <td>1</td>\n",
              "      <td>1</td>\n",
              "      <td>Male</td>\n",
              "      <td>neutral</td>\n",
              "      <td>normal</td>\n",
              "      <td>2.074745</td>\n",
              "      <td>-0.356189</td>\n",
              "      <td>1</td>\n",
              "    </tr>\n",
              "    <tr>\n",
              "      <th>3</th>\n",
              "      <td>-759.917816</td>\n",
              "      <td>75.788948</td>\n",
              "      <td>6.028997</td>\n",
              "      <td>14.562724</td>\n",
              "      <td>6.459431</td>\n",
              "      <td>14.636640</td>\n",
              "      <td>-2.999553</td>\n",
              "      <td>4.625813</td>\n",
              "      <td>-5.195350</td>\n",
              "      <td>-0.702962</td>\n",
              "      <td>-7.786034</td>\n",
              "      <td>-3.560928</td>\n",
              "      <td>2.184742</td>\n",
              "      <td>-1.828897</td>\n",
              "      <td>-0.347037</td>\n",
              "      <td>0.832212</td>\n",
              "      <td>-2.520894</td>\n",
              "      <td>-0.658892</td>\n",
              "      <td>2.920049</td>\n",
              "      <td>-1.937435</td>\n",
              "      <td>1</td>\n",
              "      <td>2</td>\n",
              "      <td>1</td>\n",
              "      <td>Male</td>\n",
              "      <td>calm</td>\n",
              "      <td>normal</td>\n",
              "      <td>2.678436</td>\n",
              "      <td>-0.721646</td>\n",
              "      <td>1</td>\n",
              "    </tr>\n",
              "    <tr>\n",
              "      <th>4</th>\n",
              "      <td>-735.006568</td>\n",
              "      <td>79.093059</td>\n",
              "      <td>8.141061</td>\n",
              "      <td>11.413559</td>\n",
              "      <td>5.174133</td>\n",
              "      <td>15.393293</td>\n",
              "      <td>-2.752062</td>\n",
              "      <td>2.964593</td>\n",
              "      <td>-5.388962</td>\n",
              "      <td>-1.691822</td>\n",
              "      <td>-5.852824</td>\n",
              "      <td>-4.043277</td>\n",
              "      <td>3.004653</td>\n",
              "      <td>-1.036605</td>\n",
              "      <td>-0.067745</td>\n",
              "      <td>0.088225</td>\n",
              "      <td>-2.209569</td>\n",
              "      <td>-1.455965</td>\n",
              "      <td>2.568243</td>\n",
              "      <td>-1.596300</td>\n",
              "      <td>1</td>\n",
              "      <td>2</td>\n",
              "      <td>1</td>\n",
              "      <td>Male</td>\n",
              "      <td>calm</td>\n",
              "      <td>normal</td>\n",
              "      <td>2.597002</td>\n",
              "      <td>-0.685411</td>\n",
              "      <td>1</td>\n",
              "    </tr>\n",
              "  </tbody>\n",
              "</table>\n",
              "</div>"
            ],
            "text/plain": [
              "            0          1         2  ...         x         y  cluster\n",
              "0 -726.217274  68.541416  3.293398  ...  2.442386 -0.006188        1\n",
              "1 -719.127814  70.202235  1.169072  ...  2.381119 -0.167988        1\n",
              "2 -714.994923  69.690371  3.925558  ...  2.074745 -0.356189        1\n",
              "3 -759.917816  75.788948  6.028997  ...  2.678436 -0.721646        1\n",
              "4 -735.006568  79.093059  8.141061  ...  2.597002 -0.685411        1\n",
              "\n",
              "[5 rows x 29 columns]"
            ]
          },
          "metadata": {
            "tags": []
          },
          "execution_count": 24
        }
      ]
    },
    {
      "cell_type": "markdown",
      "metadata": {
        "id": "gaQSRedT-3Xx",
        "colab_type": "text"
      },
      "source": [
        "<li> Create functions to aid with the modelling </li>"
      ]
    },
    {
      "cell_type": "code",
      "metadata": {
        "id": "CJrYABRYrysm",
        "colab_type": "code",
        "colab": {}
      },
      "source": [
        "### Label encoder to code the labels\n",
        "def label_encoding(target):\n",
        "  le = LabelEncoder().fit(target)\n",
        "  le_name_mapping = dict(zip(le.classes_, le.transform(le.classes_)))\n",
        "  print(le_name_mapping)\n",
        "  return le.transform(target),le_name_mapping\n",
        "\n",
        "### Split the Data set into Train andtest\n",
        "def split(X,y,test_size=0.3,shuffle=True):\n",
        "  return train_test_split(X,y,test_size=test_size,stratify=y,shuffle=shuffle)\n",
        "\n",
        "\n",
        "### Function to Opimize Hyperparameters using cross validation\n",
        "def cv_optimize(clf, parameters, Xtrain, ytrain, n_folds=10,verbose=3,scoring=\"accuracy\",return_train_score=True):\n",
        "    gs = GridSearchCV(clf, param_grid=parameters, cv=n_folds)\n",
        "    gs.fit(Xtrain, ytrain)\n",
        "    print (\"BEST PARAMS\", gs.best_params_)\n",
        "    best = gs.best_estimator_\n",
        "    ### data Frame to get results of grid search CV\n",
        "    results = pd.DataFrame(gs.cv_results_)\n",
        "    return best,results\n",
        "\n",
        "  \n",
        "### Scale The data set using Standard scaler  \n",
        "def scale(x):\n",
        "  z_scaler = sklearn.preprocessing.StandardScaler()\n",
        "  return z_scaler.fit_transform(x)  \n",
        "\n",
        "\n",
        "### Test performance with accuracy score\n",
        "def preformance(predicted,ytest):\n",
        "  print(accuracy_score(ytest,predicted))\n",
        "  \n",
        "  \n",
        "### Create data Frame with mean score for each fold:\n",
        "def splittestscores(columns,df):\n",
        "  my_dict = {}\n",
        "  for cl in columns:\n",
        "    my_dict[cl]=df[cl].mean()\n",
        "  return my_dict  \n",
        "    \n",
        "    \n",
        "  \n",
        "  \n",
        "\n",
        "\n",
        "\n",
        "  \n",
        "  \n",
        "  #skplt.metrics.plot_confusion_matrix(ytest,predicted, normalize=False)\n",
        "  #plt.show()"
      ],
      "execution_count": 0,
      "outputs": []
    },
    {
      "cell_type": "markdown",
      "metadata": {
        "id": "vZfl_9m7GARx",
        "colab_type": "text"
      },
      "source": [
        "<b> ------------------------------------Predict Gender and Emotion from data ----------------------------------------------------------</b>"
      ]
    },
    {
      "cell_type": "markdown",
      "metadata": {
        "id": "A0iHf-ZfNbrm",
        "colab_type": "text"
      },
      "source": [
        "<li> Create X and y, first I try to predict <b>Gender</b> from the data </li>"
      ]
    },
    {
      "cell_type": "code",
      "metadata": {
        "id": "eELy7vH7s8n2",
        "colab_type": "code",
        "colab": {}
      },
      "source": [
        "predictors=data_df.iloc[:,0:20].values\n",
        "label = data_df['Gender_label']"
      ],
      "execution_count": 0,
      "outputs": []
    },
    {
      "cell_type": "markdown",
      "metadata": {
        "id": "XVEcmdb-NqSK",
        "colab_type": "text"
      },
      "source": [
        "<li> Scale the predictors and encode the labels</li>"
      ]
    },
    {
      "cell_type": "code",
      "metadata": {
        "id": "eYyijimcNrNY",
        "colab_type": "code",
        "outputId": "12b7c447-aee0-42d2-ced0-7f8ae1e1bd70",
        "colab": {
          "base_uri": "https://localhost:8080/",
          "height": 34
        }
      },
      "source": [
        "X = scale(predictors)\n",
        "y,map= label_encoding(label)"
      ],
      "execution_count": 0,
      "outputs": [
        {
          "output_type": "stream",
          "text": [
            "{'Female': 0, 'Male': 1}\n"
          ],
          "name": "stdout"
        }
      ]
    },
    {
      "cell_type": "markdown",
      "metadata": {
        "id": "BUTCSEepOz05",
        "colab_type": "text"
      },
      "source": [
        "<li> Split the data set </li>"
      ]
    },
    {
      "cell_type": "code",
      "metadata": {
        "id": "xRjOqBKjxGke",
        "colab_type": "code",
        "colab": {}
      },
      "source": [
        "Xtrain, Xtest, ytrain, ytest = split(X,y)"
      ],
      "execution_count": 0,
      "outputs": []
    },
    {
      "cell_type": "code",
      "metadata": {
        "id": "DSmDyJ_3yNhd",
        "colab_type": "code",
        "outputId": "96a0be14-0f5b-4576-aed3-a1cc111c8f83",
        "colab": {
          "base_uri": "https://localhost:8080/",
          "height": 87
        }
      },
      "source": [
        "print(f'Shape of Xtrain is {Xtrain.shape}')\n",
        "print(f'Shape of Xtest is {Xtest.shape}')\n",
        "print(f'Shape of ytrain is {ytrain.shape}')\n",
        "print(f'Shape of ytest is {ytest.shape}')"
      ],
      "execution_count": 0,
      "outputs": [
        {
          "output_type": "stream",
          "text": [
            "Shape of Xtrain is (1008, 20)\n",
            "Shape of Xtest is (432, 20)\n",
            "Shape of ytrain is (1008,)\n",
            "Shape of ytest is (432,)\n"
          ],
          "name": "stdout"
        }
      ]
    },
    {
      "cell_type": "markdown",
      "metadata": {
        "id": "4eJ_LDo7yvYF",
        "colab_type": "text"
      },
      "source": [
        "<li> Set Parametets for Random Forest to use in the \"CV optimize\"function which uses 5 fold cross validation and Gridsearch CV from sklearn to give the best parameter for the best fitting model </li>"
      ]
    },
    {
      "cell_type": "code",
      "metadata": {
        "id": "qtKxTBw0zF2M",
        "colab_type": "code",
        "colab": {}
      },
      "source": [
        "clf = RandomForestClassifier(random_state=42)\n",
        "#param_grid = {\"n_estimators\": np.arange(10, 100, 10),\"max_depth\": np.arange(1, 28, 1),\"min_samples_split\": np.arange(10,150,10),\"min_samples_leaf\": np.arange(1,20,1),\"max_leaf_nodes\": np.arange(2,20,1),\"min_weight_fraction_leaf\": np.arange(0.1,0.4, 0.1),\"max_features\":['auto',None,'sqrt']}"
      ],
      "execution_count": 0,
      "outputs": []
    },
    {
      "cell_type": "markdown",
      "metadata": {
        "id": "IvW2I2FWA_xh",
        "colab_type": "text"
      },
      "source": [
        "<li>  I chose the following parameters for the CV optmize function,\n",
        "  <b>n_estimators</b> is the number of trees to be used in the forest. Since Random Forest is an ensemble method comprising of creating multiple decision trees, this parameter is used to control the number of trees to be used in the process.</li>\n",
        "\n",
        "<li>  <b>max_features</b>on the other hand, determines the maximum number of features to consider while looking for a split. </li>\n",
        "\n",
        " <li>If “auto”, then max_features=sqrt(n_features)</li>\n",
        " <li>If “sqrt”, then max_features=sqrt(n_features) (same as “auto”).</li>\n",
        " <li>If “log2”, then max_features=log2(n_features).</li>\n",
        "  <li>If None, then max_features=n_features.</li>\n",
        "  \n",
        "  \n",
        "  <li><b> max_depth </b>is the maximum depth of the tree. If None, then nodes are expanded until all leaves are pure or until all leaves contain less than min_samples_split samples.</li>\n",
        " \n",
        "  "
      ]
    },
    {
      "cell_type": "code",
      "metadata": {
        "id": "0gUP-jIvGsBU",
        "colab_type": "code",
        "colab": {}
      },
      "source": [
        "param_grid = {\"n_estimators\": np.arange(10, 150, 10),\n",
        "              \"max_depth\": np.arange(1, 15, 1),\n",
        "              \"max_features\":['auto',None,'sqrt']}"
      ],
      "execution_count": 0,
      "outputs": []
    },
    {
      "cell_type": "code",
      "metadata": {
        "id": "Fzo5Q2_g3uy7",
        "colab_type": "code",
        "outputId": "b31151f1-eca0-41b7-e3f9-2a116e0a8865",
        "colab": {
          "base_uri": "https://localhost:8080/",
          "height": 34
        }
      },
      "source": [
        "model,result_df = cv_optimize(clf,param_grid,Xtrain,ytrain)"
      ],
      "execution_count": 0,
      "outputs": [
        {
          "output_type": "stream",
          "text": [
            "BEST PARAMS {'max_depth': 9, 'max_features': 'auto', 'n_estimators': 80}\n"
          ],
          "name": "stdout"
        }
      ]
    },
    {
      "cell_type": "markdown",
      "metadata": {
        "id": "kj9IfQgPczIt",
        "colab_type": "text"
      },
      "source": [
        "<b> Mean test score for each folds</b>"
      ]
    },
    {
      "cell_type": "code",
      "metadata": {
        "id": "HueVoemeULve",
        "colab_type": "code",
        "outputId": "74dc6992-cbf4-4162-ef2f-8b51a2fb179e",
        "colab": {
          "base_uri": "https://localhost:8080/",
          "height": 185
        }
      },
      "source": [
        "splittestscores(result_df.columns[8:18].values,result_df)"
      ],
      "execution_count": 0,
      "outputs": [
        {
          "output_type": "execute_result",
          "data": {
            "text/plain": [
              "{'split0_test_score': 0.8990096038415376,\n",
              " 'split1_test_score': 0.9423769507803119,\n",
              " 'split2_test_score': 0.9219521141790025,\n",
              " 'split3_test_score': 0.9443944244364485,\n",
              " 'split4_test_score': 0.9133843537414921,\n",
              " 'split5_test_score': 0.964710884353744,\n",
              " 'split6_test_score': 0.9207993197278891,\n",
              " 'split7_test_score': 0.9596258503401431,\n",
              " 'split8_test_score': 0.9164625850340091,\n",
              " 'split9_test_score': 0.9648639455782401}"
            ]
          },
          "metadata": {
            "tags": []
          },
          "execution_count": 54
        }
      ]
    },
    {
      "cell_type": "markdown",
      "metadata": {
        "id": "tNjYak0jDk0L",
        "colab_type": "text"
      },
      "source": [
        "<li> Test performance </li>"
      ]
    },
    {
      "cell_type": "code",
      "metadata": {
        "id": "tdUQ5KKZLfR9",
        "colab_type": "code",
        "outputId": "4a8977cd-6e8b-4880-a12a-b13d9a4c5307",
        "colab": {
          "base_uri": "https://localhost:8080/",
          "height": 34
        }
      },
      "source": [
        "ypred = model.predict(Xtest)\n",
        "\n",
        "preformance(ypred,ytest)"
      ],
      "execution_count": 0,
      "outputs": [
        {
          "output_type": "stream",
          "text": [
            "0.9606481481481481\n"
          ],
          "name": "stdout"
        }
      ]
    },
    {
      "cell_type": "markdown",
      "metadata": {
        "id": "E6AnWhzKLpuj",
        "colab_type": "text"
      },
      "source": [
        "<li> Plot the confusion matrix </li>"
      ]
    },
    {
      "cell_type": "code",
      "metadata": {
        "id": "RmStabacFkKs",
        "colab_type": "code",
        "outputId": "658e20e3-5bec-4291-b173-b5e8b93925b5",
        "colab": {
          "base_uri": "https://localhost:8080/",
          "height": 269
        }
      },
      "source": [
        "cm = confusion_matrix(ytest, ypred)\n",
        "matrix_df = pd.DataFrame(cm,index=['Female','Male'],columns=['Female','Male'])\n",
        "_=sns.heatmap(matrix_df,annot=True,fmt='g',cmap='Blues')"
      ],
      "execution_count": 0,
      "outputs": [
        {
          "output_type": "display_data",
          "data": {
            "image/png": "[encoded data removed]",
            "text/plain": [
              "<Figure size 432x288 with 2 Axes>"
            ]
          },
          "metadata": {
            "tags": []
          }
        }
      ]
    },
    {
      "cell_type": "markdown",
      "metadata": {
        "id": "53Rqx5QoNopO",
        "colab_type": "text"
      },
      "source": [
        "<b> prediction for emotion labels</b>\n",
        "<li> using emotion as label </li>"
      ]
    },
    {
      "cell_type": "code",
      "metadata": {
        "id": "EexfHxLjNuh2",
        "colab_type": "code",
        "outputId": "e1b8775c-7c24-4f99-bc3c-d5e285d9a6d1",
        "colab": {
          "base_uri": "https://localhost:8080/",
          "height": 34
        }
      },
      "source": [
        "label2 = data_df['Emotion_label']\n",
        "\n",
        "## Enode label 2\n",
        "yemo = label_encoding(label2)"
      ],
      "execution_count": 0,
      "outputs": [
        {
          "output_type": "stream",
          "text": [
            "{'angry': 0, 'calm': 1, 'disgust': 2, 'fearful': 3, 'happy': 4, 'neutral': 5, 'sad': 6, 'surprised': 7}\n"
          ],
          "name": "stdout"
        }
      ]
    },
    {
      "cell_type": "code",
      "metadata": {
        "id": "Dm6BNQvPOCUl",
        "colab_type": "code",
        "colab": {}
      },
      "source": [
        "### Split data using the same predictors \n",
        "\n",
        "\n",
        "Xemo_train,Xemo_test,yemo_train,yemo_test = split(X,yemo)"
      ],
      "execution_count": 0,
      "outputs": []
    },
    {
      "cell_type": "code",
      "metadata": {
        "id": "DvXt-RNgT4AV",
        "colab_type": "code",
        "colab": {}
      },
      "source": [
        "param_grid2 = {\"n_estimators\": np.arange(10, 100, 10),\n",
        "              \"max_depth\": np.arange(1, 15, 1),\n",
        "              \"max_features\":['auto',None,'sqrt']}"
      ],
      "execution_count": 0,
      "outputs": []
    },
    {
      "cell_type": "code",
      "metadata": {
        "id": "d4ue0vAXOa4N",
        "colab_type": "code",
        "outputId": "c7bec663-4a26-4af0-8fbf-239c9e9d07a9",
        "colab": {
          "base_uri": "https://localhost:8080/",
          "height": 87
        }
      },
      "source": [
        "#### Using same parameters call cv_optimize function to get tuned parameters\n",
        "\n",
        "model2,result_df2 = cv_optimize(clf,param_grid2,Xemo_train,yemo_train)"
      ],
      "execution_count": 0,
      "outputs": [
        {
          "output_type": "stream",
          "text": [
            "/usr/local/lib/python3.6/dist-packages/sklearn/model_selection/_search.py:813: DeprecationWarning: The default of the `iid` parameter will change from True to False in version 0.22 and will be removed in 0.24. This will change numeric results when test-set sizes are unequal.\n",
            "  DeprecationWarning)\n"
          ],
          "name": "stderr"
        },
        {
          "output_type": "stream",
          "text": [
            "BEST PARAMS {'max_depth': 14, 'max_features': 'auto', 'n_estimators': 90}\n"
          ],
          "name": "stdout"
        }
      ]
    },
    {
      "cell_type": "markdown",
      "metadata": {
        "id": "2AZNwAqBgTTu",
        "colab_type": "text"
      },
      "source": [
        "<b> Mean test score for each folds</b>"
      ]
    },
    {
      "cell_type": "code",
      "metadata": {
        "id": "q9bk6JJvkPxM",
        "colab_type": "code",
        "colab": {}
      },
      "source": [
        "#splittestscores(result_df2.columns[8:18].values,result_df2)"
      ],
      "execution_count": 0,
      "outputs": []
    },
    {
      "cell_type": "markdown",
      "metadata": {
        "id": "p5nBq5RQPR9y",
        "colab_type": "text"
      },
      "source": [
        "<li> Test Performance </li>"
      ]
    },
    {
      "cell_type": "code",
      "metadata": {
        "id": "CBmtKRryOu79",
        "colab_type": "code",
        "outputId": "e0225b00-bc0e-4c5a-a941-bec7fe64dae3",
        "colab": {
          "base_uri": "https://localhost:8080/",
          "height": 34
        }
      },
      "source": [
        "yemo_pred = model2.predict(Xemo_test)\n",
        "\n",
        "preformance(yemo_pred,yemo_test)"
      ],
      "execution_count": 0,
      "outputs": [
        {
          "output_type": "stream",
          "text": [
            "0.6319444444444444\n"
          ],
          "name": "stdout"
        }
      ]
    },
    {
      "cell_type": "markdown",
      "metadata": {
        "id": "gRRTiELcPVl4",
        "colab_type": "text"
      },
      "source": [
        "<li> Plot confusion matrix</li>"
      ]
    },
    {
      "cell_type": "code",
      "metadata": {
        "id": "FVQAP5MmOu-i",
        "colab_type": "code",
        "outputId": "77e4f6af-32eb-411f-b206-72b0316d4354",
        "colab": {
          "base_uri": "https://localhost:8080/",
          "height": 306
        }
      },
      "source": [
        "cm1 = confusion_matrix(yemo_test, yemo_pred)\n",
        "matrix_df1 = pd.DataFrame(cm1,index=['angry','calm','disgust','fearful','happy','neutral','sad','surprised'],columns=['angry','calm','disgust','fearful','happy','neutral','sad','surprised'])\n",
        "_=sns.heatmap(matrix_df1,annot=True,fmt='g',cmap='Blues')"
      ],
      "execution_count": 0,
      "outputs": [
        {
          "output_type": "display_data",
          "data": {
            "image/png": "[encoded data removed]",
            "text/plain": [
              "<Figure size 432x288 with 2 Axes>"
            ]
          },
          "metadata": {
            "tags": []
          }
        }
      ]
    },
    {
      "cell_type": "markdown",
      "metadata": {
        "id": "9EfXmCtvGAy7",
        "colab_type": "text"
      },
      "source": [
        "<b> -------------------Test Performance with joining the labels of emotion and Gender------------------</b> "
      ]
    },
    {
      "cell_type": "code",
      "metadata": {
        "id": "YMB9YVOKkvxh",
        "colab_type": "code",
        "colab": {}
      },
      "source": [
        "#### Create new label for Gender_emotion\n",
        "data_df['Gender_emotion']=data_df['Gender_label']+data_df['Emotion_label']"
      ],
      "execution_count": 0,
      "outputs": []
    },
    {
      "cell_type": "markdown",
      "metadata": {
        "id": "VDZ0L1Arlp62",
        "colab_type": "text"
      },
      "source": [
        "<b> Distribution of each Label</b>"
      ]
    },
    {
      "cell_type": "code",
      "metadata": {
        "id": "sOHXLYgGlfa3",
        "colab_type": "code",
        "outputId": "9b5808a2-0354-4927-d67a-135d2d1f6117",
        "colab": {
          "base_uri": "https://localhost:8080/",
          "height": 302
        }
      },
      "source": [
        "data_df['Gender_emotion'].value_counts()"
      ],
      "execution_count": 0,
      "outputs": [
        {
          "output_type": "execute_result",
          "data": {
            "text/plain": [
              "Malehappy          96\n",
              "Femalecalm         96\n",
              "Femaledisgust      96\n",
              "Femalefearful      96\n",
              "Femalesad          96\n",
              "Femaleangry        96\n",
              "Femalehappy        96\n",
              "Malesurprised      96\n",
              "Maleangry          96\n",
              "Femalesurprised    96\n",
              "Malecalm           96\n",
              "Malefearful        96\n",
              "Malesad            96\n",
              "Maledisgust        96\n",
              "Femaleneutral      48\n",
              "Maleneutral        48\n",
              "Name: Gender_emotion, dtype: int64"
            ]
          },
          "metadata": {
            "tags": []
          },
          "execution_count": 72
        }
      ]
    },
    {
      "cell_type": "markdown",
      "metadata": {
        "id": "EJatmu7Hl3Ht",
        "colab_type": "text"
      },
      "source": [
        "<b> prediction for emotion by gender labels</b>\n"
      ]
    },
    {
      "cell_type": "code",
      "metadata": {
        "id": "-cIyEqnbP2JC",
        "colab_type": "code",
        "outputId": "d7c18c19-6679-4627-c030-b27b1b4c7176",
        "colab": {
          "base_uri": "https://localhost:8080/",
          "height": 54
        }
      },
      "source": [
        "### Create Label\n",
        "label3 = data_df['Gender_emotion']\n",
        "###\n",
        "yemobygender,mapping = label_encoding(label3)"
      ],
      "execution_count": 0,
      "outputs": [
        {
          "output_type": "stream",
          "text": [
            "{'Femaleangry': 0, 'Femalecalm': 1, 'Femaledisgust': 2, 'Femalefearful': 3, 'Femalehappy': 4, 'Femaleneutral': 5, 'Femalesad': 6, 'Femalesurprised': 7, 'Maleangry': 8, 'Malecalm': 9, 'Maledisgust': 10, 'Malefearful': 11, 'Malehappy': 12, 'Maleneutral': 13, 'Malesad': 14, 'Malesurprised': 15}\n"
          ],
          "name": "stdout"
        }
      ]
    },
    {
      "cell_type": "code",
      "metadata": {
        "id": "YW9riwkCm8DW",
        "colab_type": "code",
        "colab": {}
      },
      "source": [
        "### Split data using the same predictors \n",
        "\n",
        "\n",
        "Xemobygender_train,Xemobygender_test,yemobygender_train,yemobygender_test = split(X,yemobygender)"
      ],
      "execution_count": 0,
      "outputs": []
    },
    {
      "cell_type": "code",
      "metadata": {
        "id": "GOhlXG5wmAHH",
        "colab_type": "code",
        "outputId": "a84c1c01-3bf2-405b-e0d4-cbdad5929faa",
        "colab": {
          "base_uri": "https://localhost:8080/",
          "height": 87
        }
      },
      "source": [
        "#### Using same parameters call cv_optimize function to get tuned parameters\n",
        "\n",
        "model3,result_df3 = cv_optimize(clf,param_grid2,Xemobygender_train,yemobygender_train)"
      ],
      "execution_count": 0,
      "outputs": [
        {
          "output_type": "stream",
          "text": [
            "/usr/local/lib/python3.6/dist-packages/sklearn/model_selection/_search.py:813: DeprecationWarning: The default of the `iid` parameter will change from True to False in version 0.22 and will be removed in 0.24. This will change numeric results when test-set sizes are unequal.\n",
            "  DeprecationWarning)\n"
          ],
          "name": "stderr"
        },
        {
          "output_type": "stream",
          "text": [
            "BEST PARAMS {'max_depth': 13, 'max_features': 'auto', 'n_estimators': 80}\n"
          ],
          "name": "stdout"
        }
      ]
    },
    {
      "cell_type": "markdown",
      "metadata": {
        "id": "pH4-S49qqteh",
        "colab_type": "text"
      },
      "source": [
        "<b> Mean test score for each folds</b>"
      ]
    },
    {
      "cell_type": "code",
      "metadata": {
        "id": "Heu7PIZJqdHZ",
        "colab_type": "code",
        "outputId": "2f12399b-43cf-46d1-bb40-4dad5571da3f",
        "colab": {
          "base_uri": "https://localhost:8080/",
          "height": 185
        }
      },
      "source": [
        "splittestscores(result_df3.columns[8:18].values,result_df3)"
      ],
      "execution_count": 0,
      "outputs": [
        {
          "output_type": "execute_result",
          "data": {
            "text/plain": [
              "{'split0_test_score': 0.4764400519117509,\n",
              " 'split1_test_score': 0.4449435958869918,\n",
              " 'split2_test_score': 0.4190875511630227,\n",
              " 'split3_test_score': 0.43758111210941386,\n",
              " 'split4_test_score': 0.4247812372812376,\n",
              " 'split5_test_score': 0.4336080586080588,\n",
              " 'split6_test_score': 0.4397130647130646,\n",
              " 'split7_test_score': 0.42227398205659145,\n",
              " 'split8_test_score': 0.42954144620811313,\n",
              " 'split9_test_score': 0.4057613168724275}"
            ]
          },
          "metadata": {
            "tags": []
          },
          "execution_count": 82
        }
      ]
    },
    {
      "cell_type": "markdown",
      "metadata": {
        "id": "G7bAl_gVpQo3",
        "colab_type": "text"
      },
      "source": [
        "<b>check Performance</b>"
      ]
    },
    {
      "cell_type": "code",
      "metadata": {
        "id": "vBhBKbYdndWH",
        "colab_type": "code",
        "outputId": "be1a0565-f417-43d5-b86b-3e98422deee3",
        "colab": {
          "base_uri": "https://localhost:8080/",
          "height": 34
        }
      },
      "source": [
        "yemobygender_pred = model2.predict(Xemobygender_test)\n",
        "\n",
        "preformance(yemobygender_pred,yemobygender_test)"
      ],
      "execution_count": 0,
      "outputs": [
        {
          "output_type": "stream",
          "text": [
            "0.4305555555555556\n"
          ],
          "name": "stdout"
        }
      ]
    },
    {
      "cell_type": "markdown",
      "metadata": {
        "id": "LVuoky72Fc--",
        "colab_type": "text"
      },
      "source": [
        "<b> ----------------------------Feature selection using PCA and test permormance   -------------------------------------------</b>"
      ]
    },
    {
      "cell_type": "markdown",
      "metadata": {
        "id": "SETCrtKCVYGX",
        "colab_type": "text"
      },
      "source": [
        "<b> Perform Feature variance analysis using PCA </b>"
      ]
    },
    {
      "cell_type": "code",
      "metadata": {
        "id": "34MjMMr-q9sR",
        "colab_type": "code",
        "outputId": "fcf22170-d960-4dd2-f707-8531217dbe73",
        "colab": {
          "base_uri": "https://localhost:8080/",
          "height": 681
        }
      },
      "source": [
        "plt.figure(figsize=(12, 4))\n",
        "scaled_data=scale(data_df.iloc[:,0:20].values)\n",
        "pca_feature = PCA().fit(scaled_data)\n",
        "plt.plot(pca_feature.explained_variance_ratio_,marker='o',label='Explained Variance')\n",
        "#plt.plot(pca_feature.explained_variance_.cumsum(), marker='o',label='Cummulative Variance explained')\n",
        "plt.legend()\n",
        "plt.ylabel('Variance')\n",
        "plt.xlabel('Number of principal components')\n",
        "plt.title('Variance vs nPCA for the data')\n",
        "_=plt.xticks(np.arange(0, 20, step=1))\n",
        "\n",
        "plt.show()\n",
        "\n",
        "plt.figure(figsize=(12, 6))\n",
        "plt.plot(pca_feature.explained_variance_ratio_,marker='o',label='Explained Variance')\n",
        "plt.plot(pca_feature.explained_variance_ratio_.cumsum(), marker='o',label='Cummulative Variance explained')\n",
        "plt.legend()\n",
        "plt.ylabel('Variance')\n",
        "plt.xlabel('Number of principal components')\n",
        "plt.title('Variance and cumulative variance vs nPCA for the data')\n",
        "\n",
        "_=plt.xticks(np.arange(0, 20, step=1))\n",
        "_=plt.yticks(np.arange(0, 1, step=.05))\n",
        "\n",
        "plt.show()"
      ],
      "execution_count": 0,
      "outputs": [
        {
          "output_type": "display_data",
          "data": {
            "image/png": "[encoded data removed]",
            "text/plain": [
              "<Figure size 864x288 with 1 Axes>"
            ]
          },
          "metadata": {
            "tags": []
          }
        },
        {
          "output_type": "display_data",
          "data": {
            "image/png": "[encoded data removed]",
            "text/plain": [
              "<Figure size 864x432 with 1 Axes>"
            ]
          },
          "metadata": {
            "tags": []
          }
        }
      ]
    },
    {
      "cell_type": "markdown",
      "metadata": {
        "id": "JNHPMescWBog",
        "colab_type": "text"
      },
      "source": [
        "<li> We can see that 13 Features contribute to 95% of the variance </li>\n",
        "<li> test model Performace with only 13 features</li>"
      ]
    },
    {
      "cell_type": "markdown",
      "metadata": {
        "id": "2lLQxUJ0V7wJ",
        "colab_type": "text"
      },
      "source": [
        "<b> ------------------------------Test Model Performance for 13 features for predicting Gender-----------------------------------------</b>"
      ]
    },
    {
      "cell_type": "code",
      "metadata": {
        "id": "IdqvdeYMVRtF",
        "colab_type": "code",
        "outputId": "d76cf64b-b087-499e-ea17-3c4c547ffef2",
        "colab": {
          "base_uri": "https://localhost:8080/",
          "height": 34
        }
      },
      "source": [
        "### Scale data and create predict label\n",
        "xr = scale(data_df.iloc[:,:13].values)\n",
        "yr,mapr = label_encoding(data_df['Gender_label'])\n"
      ],
      "execution_count": 0,
      "outputs": [
        {
          "output_type": "stream",
          "text": [
            "{'Female': 0, 'Male': 1}\n"
          ],
          "name": "stdout"
        }
      ]
    },
    {
      "cell_type": "code",
      "metadata": {
        "id": "tyBXKMJ8Xxue",
        "colab_type": "code",
        "outputId": "60b11a3f-4795-43eb-e5bf-92e9d5587b0d",
        "colab": {
          "base_uri": "https://localhost:8080/",
          "height": 161
        }
      },
      "source": [
        "Xr_train,Xr_test,yr_train,yr_test = split(xr,yr)\n",
        "print(f'Shape of Xtrain is {Xr_train.shape}')\n",
        "print(f'Shape of Xtest is {Xr_test.shape}')\n",
        "print(f'Shape of ytrain is {yr_train.shape}')\n",
        "print(f'Shape of ytest is {yr_test.shape}')\n",
        "model4,result_df4 = cv_optimize(clf,param_grid,Xr_train,yr_train)"
      ],
      "execution_count": 0,
      "outputs": [
        {
          "output_type": "stream",
          "text": [
            "Shape of Xtrain is (1008, 13)\n",
            "Shape of Xtest is (432, 13)\n",
            "Shape of ytrain is (1008,)\n",
            "Shape of ytest is (432,)\n",
            "BEST PARAMS {'max_depth': 9, 'max_features': 'auto', 'n_estimators': 90}\n"
          ],
          "name": "stdout"
        },
        {
          "output_type": "stream",
          "text": [
            "/usr/local/lib/python3.6/dist-packages/sklearn/model_selection/_search.py:813: DeprecationWarning: The default of the `iid` parameter will change from True to False in version 0.22 and will be removed in 0.24. This will change numeric results when test-set sizes are unequal.\n",
            "  DeprecationWarning)\n"
          ],
          "name": "stderr"
        }
      ]
    },
    {
      "cell_type": "code",
      "metadata": {
        "id": "I3kJqfzRZbC7",
        "colab_type": "code",
        "outputId": "de631ffd-4f7a-4f9d-920c-1f34deb5cc11",
        "colab": {
          "base_uri": "https://localhost:8080/",
          "height": 34
        }
      },
      "source": [
        "yr_pred = model4.predict(Xr_test)\n",
        "\n",
        "preformance(yr_pred,yr_test)"
      ],
      "execution_count": 0,
      "outputs": [
        {
          "output_type": "stream",
          "text": [
            "0.9537037037037037\n"
          ],
          "name": "stdout"
        }
      ]
    },
    {
      "cell_type": "markdown",
      "metadata": {
        "id": "y1Ujh3kOWVF5",
        "colab_type": "text"
      },
      "source": [
        "<li> Scores of all individual CV test</li>"
      ]
    },
    {
      "cell_type": "code",
      "metadata": {
        "id": "qONlwLJxVy1l",
        "colab_type": "code",
        "outputId": "245037d2-8462-4dff-d174-fecce3ed43e7",
        "colab": {
          "base_uri": "https://localhost:8080/",
          "height": 194
        }
      },
      "source": [
        "splittestscores(result_df4.columns[8:18].values,result_df4)"
      ],
      "execution_count": 0,
      "outputs": [
        {
          "output_type": "execute_result",
          "data": {
            "text/plain": [
              "{'split0_test_score': 0.9485127384287104,\n",
              " 'split1_test_score': 0.9151660664265718,\n",
              " 'split2_test_score': 0.9236027744431071,\n",
              " 'split3_test_score': 0.9193844204348384,\n",
              " 'split4_test_score': 0.9221598639455771,\n",
              " 'split5_test_score': 0.9270918367346928,\n",
              " 'split6_test_score': 0.901649659863949,\n",
              " 'split7_test_score': 0.8929251700680275,\n",
              " 'split8_test_score': 0.9008333333333349,\n",
              " 'split9_test_score': 0.8889965986394591}"
            ]
          },
          "metadata": {
            "tags": []
          },
          "execution_count": 33
        }
      ]
    },
    {
      "cell_type": "markdown",
      "metadata": {
        "id": "ICINSCbNWJqI",
        "colab_type": "text"
      },
      "source": [
        "<b> ------------------------------Test Model Performance for 13 features for predicting Emotions-----------------------------------------</b>"
      ]
    },
    {
      "cell_type": "code",
      "metadata": {
        "id": "NpbjDAXeeW4j",
        "colab_type": "code",
        "outputId": "50cb3fc8-0d0b-4ad9-c4df-d789094a1b65",
        "colab": {
          "base_uri": "https://localhost:8080/",
          "height": 107
        }
      },
      "source": [
        "yremo,mapr = label_encoding(data_df['Emotion_label'])\n",
        "Xremo_train,Xremo_test,yremo_train,yremo_test = split(xr,yremo)\n",
        "model5,result_df5 = cv_optimize(clf,param_grid,Xremo_train,yremo_train)"
      ],
      "execution_count": 0,
      "outputs": [
        {
          "output_type": "stream",
          "text": [
            "{'angry': 0, 'calm': 1, 'disgust': 2, 'fearful': 3, 'happy': 4, 'neutral': 5, 'sad': 6, 'surprised': 7}\n"
          ],
          "name": "stdout"
        },
        {
          "output_type": "stream",
          "text": [
            "/usr/local/lib/python3.6/dist-packages/sklearn/model_selection/_search.py:813: DeprecationWarning: The default of the `iid` parameter will change from True to False in version 0.22 and will be removed in 0.24. This will change numeric results when test-set sizes are unequal.\n",
            "  DeprecationWarning)\n"
          ],
          "name": "stderr"
        },
        {
          "output_type": "stream",
          "text": [
            "BEST PARAMS {'max_depth': 14, 'max_features': 'auto', 'n_estimators': 120}\n"
          ],
          "name": "stdout"
        }
      ]
    },
    {
      "cell_type": "code",
      "metadata": {
        "id": "xo2msOnVe7an",
        "colab_type": "code",
        "outputId": "b3355c69-ccd6-4a8e-d9fa-c27f58239c06",
        "colab": {
          "base_uri": "https://localhost:8080/",
          "height": 34
        }
      },
      "source": [
        "yremo_pred = model5.predict(Xremo_test)\n",
        "\n",
        "preformance(yremo_pred,yremo_test)"
      ],
      "execution_count": 0,
      "outputs": [
        {
          "output_type": "stream",
          "text": [
            "0.5370370370370371\n"
          ],
          "name": "stdout"
        }
      ]
    },
    {
      "cell_type": "markdown",
      "metadata": {
        "id": "Uf5XOVyTWdPF",
        "colab_type": "text"
      },
      "source": [
        "<li> Scores of all individual CV test</li>"
      ]
    },
    {
      "cell_type": "code",
      "metadata": {
        "id": "dSwIuXaRjBPp",
        "colab_type": "code",
        "outputId": "bbf581e6-b243-4d7a-83fb-441d7168c5c9",
        "colab": {
          "base_uri": "https://localhost:8080/",
          "height": 194
        }
      },
      "source": [
        "splittestscores(result_df5.columns[8:18].values,result_df5)"
      ],
      "execution_count": 0,
      "outputs": [
        {
          "output_type": "execute_result",
          "data": {
            "text/plain": [
              "{'split0_test_score': 0.40950761256883683,\n",
              " 'split1_test_score': 0.510592808551992,\n",
              " 'split2_test_score': 0.4095076125688376,\n",
              " 'split3_test_score': 0.46154842889536796,\n",
              " 'split4_test_score': 0.44101501986933506,\n",
              " 'split5_test_score': 0.40823268082743425,\n",
              " 'split6_test_score': 0.4639212827988316,\n",
              " 'split7_test_score': 0.43193772354302556,\n",
              " 'split8_test_score': 0.45835963251279827,\n",
              " 'split9_test_score': 0.4424398625429557}"
            ]
          },
          "metadata": {
            "tags": []
          },
          "execution_count": 31
        }
      ]
    },
    {
      "cell_type": "markdown",
      "metadata": {
        "id": "ELR5PeK4Wmy7",
        "colab_type": "text"
      },
      "source": [
        "<b>  Implement Clustering to analyse underlying groups (or \"clusters\") in the data set for predicting emotions and see if we can group labels together to achieve a better Performing model</b>"
      ]
    },
    {
      "cell_type": "code",
      "metadata": {
        "id": "gl5xO1FCYHuI",
        "colab_type": "code",
        "outputId": "0633fb6d-b9c0-42cc-bad2-2392fa5236f0",
        "colab": {
          "base_uri": "https://localhost:8080/",
          "height": 34
        }
      },
      "source": [
        "from sklearn.cluster import KMeans\n",
        "from scipy.cluster.hierarchy import linkage,dendrogram,fcluster\n",
        "samples = scale(predictors)\n",
        "labels_encode,map= label_encoding(data_df['Emotion_label'])\n"
      ],
      "execution_count": 0,
      "outputs": [
        {
          "output_type": "stream",
          "text": [
            "{'angry': 0, 'calm': 1, 'disgust': 2, 'fearful': 3, 'happy': 4, 'neutral': 5, 'sad': 6, 'surprised': 7}\n"
          ],
          "name": "stdout"
        }
      ]
    },
    {
      "cell_type": "markdown",
      "metadata": {
        "id": "VDXZpUt1vY-V",
        "colab_type": "text"
      },
      "source": [
        "<li> Create heirarchial clusters visualization </li>"
      ]
    },
    {
      "cell_type": "code",
      "metadata": {
        "id": "UTGWrazLjGwv",
        "colab_type": "code",
        "outputId": "1fb04dea-f730-46a9-962e-bf0ba98226b8",
        "colab": {
          "base_uri": "https://localhost:8080/",
          "height": 601
        }
      },
      "source": [
        "plt.figure(figsize=(30,10))\n",
        "mergings = linkage(samples,method='ward')\n",
        "dendrogram(mergings,leaf_rotation=90,leaf_font_size=6,no_labels=False)\n",
        "plt.show()\n"
      ],
      "execution_count": 0,
      "outputs": [
        {
          "output_type": "display_data",
          "data": {
            "image/png": "[encoded data removed]",
            "text/plain": [
              "<Figure size 2160x720 with 1 Axes>"
            ]
          },
          "metadata": {
            "tags": []
          }
        }
      ]
    },
    {
      "cell_type": "markdown",
      "metadata": {
        "id": "xatMmSQdvhss",
        "colab_type": "text"
      },
      "source": [
        "<li> Plot Truncated plot to Help in analysis I am truncating only the last 10 Merged clusters</li>"
      ]
    },
    {
      "cell_type": "code",
      "metadata": {
        "id": "yj5GOFsbp5Mh",
        "colab_type": "code",
        "outputId": "10391e2b-5076-4656-fa34-679d590f934a",
        "colab": {
          "base_uri": "https://localhost:8080/",
          "height": 643
        }
      },
      "source": [
        "plt.figure(figsize=(20,10))\n",
        "plt.title('Hierarchical Clustering Dendrogram (truncated)')\n",
        "plt.xlabel('sample index')\n",
        "plt.ylabel('distance')\n",
        "dendrogram(\n",
        "    mergings,labels=data_df['Emotion_label'].values,\n",
        "    truncate_mode='lastp',  # show only the last p merged clusters\n",
        "    p=10,  # show only the last p merged clusters\n",
        "    show_leaf_counts=True,  #  numbers in brackets are counts\n",
        "    leaf_rotation=90.,\n",
        "    leaf_font_size=12.,\n",
        "    show_contracted=True,  # to get a distribution impression in truncated branches\n",
        ")\n",
        "#plt.axhline(y=11, c='r',linestyle = '--')\n",
        "plt.show()\n"
      ],
      "execution_count": 0,
      "outputs": [
        {
          "output_type": "display_data",
          "data": {
            "image/png": "[encoded data removed]",
            "text/plain": [
              "<Figure size 1440x720 with 1 Axes>"
            ]
          },
          "metadata": {
            "tags": []
          }
        }
      ]
    },
    {
      "cell_type": "markdown",
      "metadata": {
        "id": "_MsET93hvynF",
        "colab_type": "text"
      },
      "source": [
        "<b> Selecting a Distance Cut-Off/ Determining the Number of Clusters</b>\n",
        "<li> Visually looking at it we see a spike in the height of clustering at 49 , drawing a line to cut the Y axis and couting the intersection with the line we see 6 clusters  </li>"
      ]
    },
    {
      "cell_type": "code",
      "metadata": {
        "id": "6BXIn9HluW1C",
        "colab_type": "code",
        "outputId": "3e84c647-5ee6-4060-cd15-36ecaf3c5fc6",
        "colab": {
          "base_uri": "https://localhost:8080/",
          "height": 643
        }
      },
      "source": [
        "plt.figure(figsize=(20,10))\n",
        "plt.title('Hierarchical Clustering Dendrogram (truncated)')\n",
        "plt.xlabel('sample index')\n",
        "plt.ylabel('distance')\n",
        "dendrogram(\n",
        "    mergings,labels=data_df['Emotion_label'].values,\n",
        "    truncate_mode='lastp',  # show only the last p merged clusters\n",
        "    p=10,  # show only the last p merged clusters\n",
        "    show_leaf_counts=True,  #  numbers in brackets are counts\n",
        "    leaf_rotation=90.,\n",
        "    leaf_font_size=12.,\n",
        "    show_contracted=True,  # to get a distribution impression in truncated branches\n",
        ")\n",
        "plt.axhline(y=70, c='r',linestyle = '--')\n",
        "plt.show()\n"
      ],
      "execution_count": 0,
      "outputs": [
        {
          "output_type": "display_data",
          "data": {
            "image/png": "[encoded data removed]",
            "text/plain": [
              "<Figure size 1440x720 with 1 Axes>"
            ]
          },
          "metadata": {
            "tags": []
          }
        }
      ]
    },
    {
      "cell_type": "markdown",
      "metadata": {
        "id": "rbUpr2OAzhuR",
        "colab_type": "text"
      },
      "source": [
        "<b> Extract Cluster labels with 49 as the height/distance </b>"
      ]
    },
    {
      "cell_type": "code",
      "metadata": {
        "id": "I-N46yyezg4i",
        "colab_type": "code",
        "colab": {}
      },
      "source": [
        "clusters = fcluster(mergings,70,criterion='distance')\n",
        "data_df['cluster']=clusters"
      ],
      "execution_count": 0,
      "outputs": []
    },
    {
      "cell_type": "markdown",
      "metadata": {
        "id": "hAXsTMCZLvAP",
        "colab_type": "text"
      },
      "source": [
        "<li>Plot clusters in  2d with PCA</li>"
      ]
    },
    {
      "cell_type": "markdown",
      "metadata": {
        "id": "Xxn4-xeR0ydJ",
        "colab_type": "text"
      },
      "source": [
        "<b> Inspect cluster labels</b>"
      ]
    },
    {
      "cell_type": "code",
      "metadata": {
        "id": "5xf5wA-H0q2H",
        "colab_type": "code",
        "colab": {}
      },
      "source": [
        "\n",
        "df_cluster = pd.DataFrame({'emotion_label':data_df['Emotion_label'].values,'clusters':clusters})"
      ],
      "execution_count": 0,
      "outputs": []
    },
    {
      "cell_type": "code",
      "metadata": {
        "id": "2R9wGbmF26np",
        "colab_type": "code",
        "outputId": "c5fc872d-59b5-4c84-d7aa-1eaedbbd5594",
        "colab": {
          "base_uri": "https://localhost:8080/",
          "height": 137
        }
      },
      "source": [
        "pd.crosstab(df_cluster['clusters'],df_cluster['emotion_label'])"
      ],
      "execution_count": 0,
      "outputs": [
        {
          "output_type": "execute_result",
          "data": {
            "text/html": [
              "<div>\n",
              "<style scoped>\n",
              "    .dataframe tbody tr th:only-of-type {\n",
              "        vertical-align: middle;\n",
              "    }\n",
              "\n",
              "    .dataframe tbody tr th {\n",
              "        vertical-align: top;\n",
              "    }\n",
              "\n",
              "    .dataframe thead th {\n",
              "        text-align: right;\n",
              "    }\n",
              "</style>\n",
              "<table border=\"1\" class=\"dataframe\">\n",
              "  <thead>\n",
              "    <tr style=\"text-align: right;\">\n",
              "      <th>emotion_label</th>\n",
              "      <th>angry</th>\n",
              "      <th>calm</th>\n",
              "      <th>disgust</th>\n",
              "      <th>fearful</th>\n",
              "      <th>happy</th>\n",
              "      <th>neutral</th>\n",
              "      <th>sad</th>\n",
              "      <th>surprised</th>\n",
              "    </tr>\n",
              "    <tr>\n",
              "      <th>clusters</th>\n",
              "      <th></th>\n",
              "      <th></th>\n",
              "      <th></th>\n",
              "      <th></th>\n",
              "      <th></th>\n",
              "      <th></th>\n",
              "      <th></th>\n",
              "      <th></th>\n",
              "    </tr>\n",
              "  </thead>\n",
              "  <tbody>\n",
              "    <tr>\n",
              "      <th>1</th>\n",
              "      <td>63</td>\n",
              "      <td>104</td>\n",
              "      <td>96</td>\n",
              "      <td>75</td>\n",
              "      <td>73</td>\n",
              "      <td>53</td>\n",
              "      <td>101</td>\n",
              "      <td>82</td>\n",
              "    </tr>\n",
              "    <tr>\n",
              "      <th>2</th>\n",
              "      <td>129</td>\n",
              "      <td>88</td>\n",
              "      <td>96</td>\n",
              "      <td>117</td>\n",
              "      <td>119</td>\n",
              "      <td>43</td>\n",
              "      <td>91</td>\n",
              "      <td>110</td>\n",
              "    </tr>\n",
              "  </tbody>\n",
              "</table>\n",
              "</div>"
            ],
            "text/plain": [
              "emotion_label  angry  calm  disgust  fearful  happy  neutral  sad  surprised\n",
              "clusters                                                                    \n",
              "1                 63   104       96       75     73       53  101         82\n",
              "2                129    88       96      117    119       43   91        110"
            ]
          },
          "metadata": {
            "tags": []
          },
          "execution_count": 18
        }
      ]
    },
    {
      "cell_type": "code",
      "metadata": {
        "id": "S5aVWWmAr2Ow",
        "colab_type": "code",
        "outputId": "6024705f-38d5-4088-c17e-9a439a5703d0",
        "colab": {
          "base_uri": "https://localhost:8080/",
          "height": 278
        }
      },
      "source": [
        "_=pd.crosstab(df_cluster['clusters'],df_cluster['emotion_label']).plot.bar(stacked=True)"
      ],
      "execution_count": 0,
      "outputs": [
        {
          "output_type": "display_data",
          "data": {
            "image/png": "[encoded data removed]",
            "text/plain": [
              "<Figure size 432x288 with 1 Axes>"
            ]
          },
          "metadata": {
            "tags": []
          }
        }
      ]
    },
    {
      "cell_type": "code",
      "metadata": {
        "id": "4AdCoKIeFQNc",
        "colab_type": "code",
        "outputId": "eb733c9b-3efe-4f48-deb1-22f5aa457afc",
        "colab": {
          "base_uri": "https://localhost:8080/",
          "height": 217
        }
      },
      "source": [
        "data_df.head(5)"
      ],
      "execution_count": 0,
      "outputs": [
        {
          "output_type": "execute_result",
          "data": {
            "text/html": [
              "<div>\n",
              "<style scoped>\n",
              "    .dataframe tbody tr th:only-of-type {\n",
              "        vertical-align: middle;\n",
              "    }\n",
              "\n",
              "    .dataframe tbody tr th {\n",
              "        vertical-align: top;\n",
              "    }\n",
              "\n",
              "    .dataframe thead th {\n",
              "        text-align: right;\n",
              "    }\n",
              "</style>\n",
              "<table border=\"1\" class=\"dataframe\">\n",
              "  <thead>\n",
              "    <tr style=\"text-align: right;\">\n",
              "      <th></th>\n",
              "      <th>0</th>\n",
              "      <th>1</th>\n",
              "      <th>2</th>\n",
              "      <th>3</th>\n",
              "      <th>4</th>\n",
              "      <th>5</th>\n",
              "      <th>6</th>\n",
              "      <th>7</th>\n",
              "      <th>8</th>\n",
              "      <th>9</th>\n",
              "      <th>10</th>\n",
              "      <th>11</th>\n",
              "      <th>12</th>\n",
              "      <th>13</th>\n",
              "      <th>14</th>\n",
              "      <th>15</th>\n",
              "      <th>16</th>\n",
              "      <th>17</th>\n",
              "      <th>18</th>\n",
              "      <th>19</th>\n",
              "      <th>Actor_Gender_code</th>\n",
              "      <th>Emotion_code</th>\n",
              "      <th>Emotional_intensity_code</th>\n",
              "      <th>Gender_label</th>\n",
              "      <th>Emotion_label</th>\n",
              "      <th>Intensity_label</th>\n",
              "      <th>x</th>\n",
              "      <th>y</th>\n",
              "      <th>cluster</th>\n",
              "    </tr>\n",
              "  </thead>\n",
              "  <tbody>\n",
              "    <tr>\n",
              "      <th>0</th>\n",
              "      <td>-726.217274</td>\n",
              "      <td>68.541416</td>\n",
              "      <td>3.293398</td>\n",
              "      <td>12.205299</td>\n",
              "      <td>5.510278</td>\n",
              "      <td>13.667407</td>\n",
              "      <td>-2.983828</td>\n",
              "      <td>3.098029</td>\n",
              "      <td>-3.310813</td>\n",
              "      <td>-1.564385</td>\n",
              "      <td>-7.861652</td>\n",
              "      <td>-2.124282</td>\n",
              "      <td>2.849204</td>\n",
              "      <td>-2.667807</td>\n",
              "      <td>0.959020</td>\n",
              "      <td>1.628166</td>\n",
              "      <td>-2.736689</td>\n",
              "      <td>0.254240</td>\n",
              "      <td>2.675377</td>\n",
              "      <td>-1.761166</td>\n",
              "      <td>1</td>\n",
              "      <td>1</td>\n",
              "      <td>1</td>\n",
              "      <td>Male</td>\n",
              "      <td>neutral</td>\n",
              "      <td>normal</td>\n",
              "      <td>2.442386</td>\n",
              "      <td>-0.006188</td>\n",
              "      <td>1</td>\n",
              "    </tr>\n",
              "    <tr>\n",
              "      <th>1</th>\n",
              "      <td>-719.127814</td>\n",
              "      <td>70.202235</td>\n",
              "      <td>1.169072</td>\n",
              "      <td>13.123214</td>\n",
              "      <td>7.837617</td>\n",
              "      <td>14.411951</td>\n",
              "      <td>-4.110705</td>\n",
              "      <td>4.469618</td>\n",
              "      <td>-3.538731</td>\n",
              "      <td>-3.657982</td>\n",
              "      <td>-7.647889</td>\n",
              "      <td>-1.476476</td>\n",
              "      <td>3.032409</td>\n",
              "      <td>-2.461295</td>\n",
              "      <td>0.595291</td>\n",
              "      <td>0.978989</td>\n",
              "      <td>-2.835643</td>\n",
              "      <td>0.074318</td>\n",
              "      <td>1.759796</td>\n",
              "      <td>-2.062723</td>\n",
              "      <td>1</td>\n",
              "      <td>1</td>\n",
              "      <td>1</td>\n",
              "      <td>Male</td>\n",
              "      <td>neutral</td>\n",
              "      <td>normal</td>\n",
              "      <td>2.381119</td>\n",
              "      <td>-0.167988</td>\n",
              "      <td>1</td>\n",
              "    </tr>\n",
              "    <tr>\n",
              "      <th>2</th>\n",
              "      <td>-714.994923</td>\n",
              "      <td>69.690371</td>\n",
              "      <td>3.925558</td>\n",
              "      <td>11.925323</td>\n",
              "      <td>6.423344</td>\n",
              "      <td>11.014113</td>\n",
              "      <td>-2.874455</td>\n",
              "      <td>4.514386</td>\n",
              "      <td>-4.470306</td>\n",
              "      <td>-2.665094</td>\n",
              "      <td>-7.492452</td>\n",
              "      <td>-2.955175</td>\n",
              "      <td>1.880886</td>\n",
              "      <td>-2.905068</td>\n",
              "      <td>0.533953</td>\n",
              "      <td>1.381326</td>\n",
              "      <td>-2.356382</td>\n",
              "      <td>-2.012536</td>\n",
              "      <td>1.609709</td>\n",
              "      <td>-1.555485</td>\n",
              "      <td>1</td>\n",
              "      <td>1</td>\n",
              "      <td>1</td>\n",
              "      <td>Male</td>\n",
              "      <td>neutral</td>\n",
              "      <td>normal</td>\n",
              "      <td>2.074745</td>\n",
              "      <td>-0.356189</td>\n",
              "      <td>1</td>\n",
              "    </tr>\n",
              "    <tr>\n",
              "      <th>3</th>\n",
              "      <td>-759.917816</td>\n",
              "      <td>75.788948</td>\n",
              "      <td>6.028997</td>\n",
              "      <td>14.562724</td>\n",
              "      <td>6.459431</td>\n",
              "      <td>14.636640</td>\n",
              "      <td>-2.999553</td>\n",
              "      <td>4.625813</td>\n",
              "      <td>-5.195350</td>\n",
              "      <td>-0.702962</td>\n",
              "      <td>-7.786034</td>\n",
              "      <td>-3.560928</td>\n",
              "      <td>2.184742</td>\n",
              "      <td>-1.828897</td>\n",
              "      <td>-0.347037</td>\n",
              "      <td>0.832212</td>\n",
              "      <td>-2.520894</td>\n",
              "      <td>-0.658892</td>\n",
              "      <td>2.920049</td>\n",
              "      <td>-1.937435</td>\n",
              "      <td>1</td>\n",
              "      <td>2</td>\n",
              "      <td>1</td>\n",
              "      <td>Male</td>\n",
              "      <td>calm</td>\n",
              "      <td>normal</td>\n",
              "      <td>2.678436</td>\n",
              "      <td>-0.721646</td>\n",
              "      <td>1</td>\n",
              "    </tr>\n",
              "    <tr>\n",
              "      <th>4</th>\n",
              "      <td>-735.006568</td>\n",
              "      <td>79.093059</td>\n",
              "      <td>8.141061</td>\n",
              "      <td>11.413559</td>\n",
              "      <td>5.174133</td>\n",
              "      <td>15.393293</td>\n",
              "      <td>-2.752062</td>\n",
              "      <td>2.964593</td>\n",
              "      <td>-5.388962</td>\n",
              "      <td>-1.691822</td>\n",
              "      <td>-5.852824</td>\n",
              "      <td>-4.043277</td>\n",
              "      <td>3.004653</td>\n",
              "      <td>-1.036605</td>\n",
              "      <td>-0.067745</td>\n",
              "      <td>0.088225</td>\n",
              "      <td>-2.209569</td>\n",
              "      <td>-1.455965</td>\n",
              "      <td>2.568243</td>\n",
              "      <td>-1.596300</td>\n",
              "      <td>1</td>\n",
              "      <td>2</td>\n",
              "      <td>1</td>\n",
              "      <td>Male</td>\n",
              "      <td>calm</td>\n",
              "      <td>normal</td>\n",
              "      <td>2.597002</td>\n",
              "      <td>-0.685411</td>\n",
              "      <td>1</td>\n",
              "    </tr>\n",
              "  </tbody>\n",
              "</table>\n",
              "</div>"
            ],
            "text/plain": [
              "            0          1         2  ...         x         y  cluster\n",
              "0 -726.217274  68.541416  3.293398  ...  2.442386 -0.006188        1\n",
              "1 -719.127814  70.202235  1.169072  ...  2.381119 -0.167988        1\n",
              "2 -714.994923  69.690371  3.925558  ...  2.074745 -0.356189        1\n",
              "3 -759.917816  75.788948  6.028997  ...  2.678436 -0.721646        1\n",
              "4 -735.006568  79.093059  8.141061  ...  2.597002 -0.685411        1\n",
              "\n",
              "[5 rows x 29 columns]"
            ]
          },
          "metadata": {
            "tags": []
          },
          "execution_count": 25
        }
      ]
    },
    {
      "cell_type": "code",
      "metadata": {
        "id": "eb_DQ8ASLWD-",
        "colab_type": "code",
        "colab": {}
      },
      "source": [
        "data_df['Gender_emotion'] = data_df['Gender_label']+data_df['Emotion_label']"
      ],
      "execution_count": 0,
      "outputs": []
    },
    {
      "cell_type": "markdown",
      "metadata": {
        "id": "34CZjqiRLrK-",
        "colab_type": "text"
      },
      "source": [
        "<b>--------------------------- Heirarchial Clustering for Gender Emotion------------------<b>"
      ]
    },
    {
      "cell_type": "code",
      "metadata": {
        "id": "9I4t9dfqLpT8",
        "colab_type": "code",
        "colab": {}
      },
      "source": [
        "male_df = data_df.loc[data_df['Gender_label']=='Male',:]\n",
        "Female_df = data_df.loc[data_df['Gender_label']=='Female',:]\n",
        "predictors_male = male_df.iloc[:,0:20].values\n",
        "predictors_female = Female_df.iloc[:,0:20].values"
      ],
      "execution_count": 0,
      "outputs": []
    },
    {
      "cell_type": "code",
      "metadata": {
        "id": "Vy-bUUNFMIO6",
        "colab_type": "code",
        "outputId": "6e3a92b9-ff1c-4f9f-c8b7-feaaa134c9b9",
        "colab": {
          "base_uri": "https://localhost:8080/",
          "height": 614
        }
      },
      "source": [
        "samples = scale(predictors_male)\n",
        "labels_encode,map= label_encoding(male_df['Emotion_label'])\n",
        "plt.figure(figsize=(30,10))\n",
        "mergings = linkage(samples,method='ward')\n",
        "dendrogram(mergings,leaf_rotation=90,leaf_font_size=6,no_labels=False)\n",
        "plt.show()\n"
      ],
      "execution_count": 0,
      "outputs": [
        {
          "output_type": "stream",
          "text": [
            "{'angry': 0, 'calm': 1, 'disgust': 2, 'fearful': 3, 'happy': 4, 'neutral': 5, 'sad': 6, 'surprised': 7}\n"
          ],
          "name": "stdout"
        },
        {
          "output_type": "display_data",
          "data": {
            "image/png": "[encoded data removed]",
            "text/plain": [
              "<Figure size 2160x720 with 1 Axes>"
            ]
          },
          "metadata": {
            "tags": []
          }
        }
      ]
    },
    {
      "cell_type": "code",
      "metadata": {
        "id": "AJw_auGuNKrk",
        "colab_type": "code",
        "outputId": "7703c639-66ca-4c74-cdca-2b76097317e5",
        "colab": {
          "base_uri": "https://localhost:8080/",
          "height": 123
        }
      },
      "source": [
        "clusters = fcluster(mergings,70,criterion='distance')\n",
        "male_df.loc[:,'clusters']=clusters\n",
        "#df_cluster_male = pd.DataFrame({'emotion_label':male_df.loc[:,'Emotion_label'].values,'clusters':male_df['clusters']})\n",
        "#pd.crosstab(df_cluster_male['clusters'],df_cluster['emotion_label'])\n"
      ],
      "execution_count": 0,
      "outputs": [
        {
          "output_type": "stream",
          "text": [
            "/usr/local/lib/python3.6/dist-packages/pandas/core/indexing.py:543: SettingWithCopyWarning: \n",
            "A value is trying to be set on a copy of a slice from a DataFrame.\n",
            "Try using .loc[row_indexer,col_indexer] = value instead\n",
            "\n",
            "See the caveats in the documentation: http://pandas.pydata.org/pandas-docs/stable/indexing.html#indexing-view-versus-copy\n",
            "  self.obj[item] = s\n"
          ],
          "name": "stderr"
        }
      ]
    },
    {
      "cell_type": "code",
      "metadata": {
        "id": "ye1sFa7iOz0l",
        "colab_type": "code",
        "outputId": "90b392e3-500c-4cfe-ea74-a16eeb2b0d1e",
        "colab": {
          "base_uri": "https://localhost:8080/",
          "height": 217
        }
      },
      "source": [
        "male_df.head()"
      ],
      "execution_count": 0,
      "outputs": [
        {
          "output_type": "execute_result",
          "data": {
            "text/html": [
              "<div>\n",
              "<style scoped>\n",
              "    .dataframe tbody tr th:only-of-type {\n",
              "        vertical-align: middle;\n",
              "    }\n",
              "\n",
              "    .dataframe tbody tr th {\n",
              "        vertical-align: top;\n",
              "    }\n",
              "\n",
              "    .dataframe thead th {\n",
              "        text-align: right;\n",
              "    }\n",
              "</style>\n",
              "<table border=\"1\" class=\"dataframe\">\n",
              "  <thead>\n",
              "    <tr style=\"text-align: right;\">\n",
              "      <th></th>\n",
              "      <th>0</th>\n",
              "      <th>1</th>\n",
              "      <th>2</th>\n",
              "      <th>3</th>\n",
              "      <th>4</th>\n",
              "      <th>5</th>\n",
              "      <th>6</th>\n",
              "      <th>7</th>\n",
              "      <th>8</th>\n",
              "      <th>9</th>\n",
              "      <th>10</th>\n",
              "      <th>11</th>\n",
              "      <th>12</th>\n",
              "      <th>13</th>\n",
              "      <th>14</th>\n",
              "      <th>15</th>\n",
              "      <th>16</th>\n",
              "      <th>17</th>\n",
              "      <th>18</th>\n",
              "      <th>19</th>\n",
              "      <th>Actor_Gender_code</th>\n",
              "      <th>Emotion_code</th>\n",
              "      <th>Emotional_intensity_code</th>\n",
              "      <th>Gender_label</th>\n",
              "      <th>Emotion_label</th>\n",
              "      <th>Intensity_label</th>\n",
              "      <th>x</th>\n",
              "      <th>y</th>\n",
              "      <th>cluster</th>\n",
              "      <th>Gender_emotion</th>\n",
              "    </tr>\n",
              "  </thead>\n",
              "  <tbody>\n",
              "    <tr>\n",
              "      <th>0</th>\n",
              "      <td>-726.217274</td>\n",
              "      <td>68.541416</td>\n",
              "      <td>3.293398</td>\n",
              "      <td>12.205299</td>\n",
              "      <td>5.510278</td>\n",
              "      <td>13.667407</td>\n",
              "      <td>-2.983828</td>\n",
              "      <td>3.098029</td>\n",
              "      <td>-3.310813</td>\n",
              "      <td>-1.564385</td>\n",
              "      <td>-7.861652</td>\n",
              "      <td>-2.124282</td>\n",
              "      <td>2.849204</td>\n",
              "      <td>-2.667807</td>\n",
              "      <td>0.959020</td>\n",
              "      <td>1.628166</td>\n",
              "      <td>-2.736689</td>\n",
              "      <td>0.254240</td>\n",
              "      <td>2.675377</td>\n",
              "      <td>-1.761166</td>\n",
              "      <td>1</td>\n",
              "      <td>1</td>\n",
              "      <td>1</td>\n",
              "      <td>Male</td>\n",
              "      <td>neutral</td>\n",
              "      <td>normal</td>\n",
              "      <td>2.442386</td>\n",
              "      <td>-0.006188</td>\n",
              "      <td>2</td>\n",
              "      <td>Maleneutral</td>\n",
              "    </tr>\n",
              "    <tr>\n",
              "      <th>1</th>\n",
              "      <td>-719.127814</td>\n",
              "      <td>70.202235</td>\n",
              "      <td>1.169072</td>\n",
              "      <td>13.123214</td>\n",
              "      <td>7.837617</td>\n",
              "      <td>14.411951</td>\n",
              "      <td>-4.110705</td>\n",
              "      <td>4.469618</td>\n",
              "      <td>-3.538731</td>\n",
              "      <td>-3.657982</td>\n",
              "      <td>-7.647889</td>\n",
              "      <td>-1.476476</td>\n",
              "      <td>3.032409</td>\n",
              "      <td>-2.461295</td>\n",
              "      <td>0.595291</td>\n",
              "      <td>0.978989</td>\n",
              "      <td>-2.835643</td>\n",
              "      <td>0.074318</td>\n",
              "      <td>1.759796</td>\n",
              "      <td>-2.062723</td>\n",
              "      <td>1</td>\n",
              "      <td>1</td>\n",
              "      <td>1</td>\n",
              "      <td>Male</td>\n",
              "      <td>neutral</td>\n",
              "      <td>normal</td>\n",
              "      <td>2.381119</td>\n",
              "      <td>-0.167988</td>\n",
              "      <td>2</td>\n",
              "      <td>Maleneutral</td>\n",
              "    </tr>\n",
              "    <tr>\n",
              "      <th>2</th>\n",
              "      <td>-714.994923</td>\n",
              "      <td>69.690371</td>\n",
              "      <td>3.925558</td>\n",
              "      <td>11.925323</td>\n",
              "      <td>6.423344</td>\n",
              "      <td>11.014113</td>\n",
              "      <td>-2.874455</td>\n",
              "      <td>4.514386</td>\n",
              "      <td>-4.470306</td>\n",
              "      <td>-2.665094</td>\n",
              "      <td>-7.492452</td>\n",
              "      <td>-2.955175</td>\n",
              "      <td>1.880886</td>\n",
              "      <td>-2.905068</td>\n",
              "      <td>0.533953</td>\n",
              "      <td>1.381326</td>\n",
              "      <td>-2.356382</td>\n",
              "      <td>-2.012536</td>\n",
              "      <td>1.609709</td>\n",
              "      <td>-1.555485</td>\n",
              "      <td>1</td>\n",
              "      <td>1</td>\n",
              "      <td>1</td>\n",
              "      <td>Male</td>\n",
              "      <td>neutral</td>\n",
              "      <td>normal</td>\n",
              "      <td>2.074745</td>\n",
              "      <td>-0.356189</td>\n",
              "      <td>2</td>\n",
              "      <td>Maleneutral</td>\n",
              "    </tr>\n",
              "    <tr>\n",
              "      <th>3</th>\n",
              "      <td>-759.917816</td>\n",
              "      <td>75.788948</td>\n",
              "      <td>6.028997</td>\n",
              "      <td>14.562724</td>\n",
              "      <td>6.459431</td>\n",
              "      <td>14.636640</td>\n",
              "      <td>-2.999553</td>\n",
              "      <td>4.625813</td>\n",
              "      <td>-5.195350</td>\n",
              "      <td>-0.702962</td>\n",
              "      <td>-7.786034</td>\n",
              "      <td>-3.560928</td>\n",
              "      <td>2.184742</td>\n",
              "      <td>-1.828897</td>\n",
              "      <td>-0.347037</td>\n",
              "      <td>0.832212</td>\n",
              "      <td>-2.520894</td>\n",
              "      <td>-0.658892</td>\n",
              "      <td>2.920049</td>\n",
              "      <td>-1.937435</td>\n",
              "      <td>1</td>\n",
              "      <td>2</td>\n",
              "      <td>1</td>\n",
              "      <td>Male</td>\n",
              "      <td>calm</td>\n",
              "      <td>normal</td>\n",
              "      <td>2.678436</td>\n",
              "      <td>-0.721646</td>\n",
              "      <td>2</td>\n",
              "      <td>Malecalm</td>\n",
              "    </tr>\n",
              "    <tr>\n",
              "      <th>4</th>\n",
              "      <td>-735.006568</td>\n",
              "      <td>79.093059</td>\n",
              "      <td>8.141061</td>\n",
              "      <td>11.413559</td>\n",
              "      <td>5.174133</td>\n",
              "      <td>15.393293</td>\n",
              "      <td>-2.752062</td>\n",
              "      <td>2.964593</td>\n",
              "      <td>-5.388962</td>\n",
              "      <td>-1.691822</td>\n",
              "      <td>-5.852824</td>\n",
              "      <td>-4.043277</td>\n",
              "      <td>3.004653</td>\n",
              "      <td>-1.036605</td>\n",
              "      <td>-0.067745</td>\n",
              "      <td>0.088225</td>\n",
              "      <td>-2.209569</td>\n",
              "      <td>-1.455965</td>\n",
              "      <td>2.568243</td>\n",
              "      <td>-1.596300</td>\n",
              "      <td>1</td>\n",
              "      <td>2</td>\n",
              "      <td>1</td>\n",
              "      <td>Male</td>\n",
              "      <td>calm</td>\n",
              "      <td>normal</td>\n",
              "      <td>2.597002</td>\n",
              "      <td>-0.685411</td>\n",
              "      <td>2</td>\n",
              "      <td>Malecalm</td>\n",
              "    </tr>\n",
              "  </tbody>\n",
              "</table>\n",
              "</div>"
            ],
            "text/plain": [
              "            0          1         2  ...         y  cluster  Gender_emotion\n",
              "0 -726.217274  68.541416  3.293398  ... -0.006188        2     Maleneutral\n",
              "1 -719.127814  70.202235  1.169072  ... -0.167988        2     Maleneutral\n",
              "2 -714.994923  69.690371  3.925558  ... -0.356189        2     Maleneutral\n",
              "3 -759.917816  75.788948  6.028997  ... -0.721646        2        Malecalm\n",
              "4 -735.006568  79.093059  8.141061  ... -0.685411        2        Malecalm\n",
              "\n",
              "[5 rows x 30 columns]"
            ]
          },
          "metadata": {
            "tags": []
          },
          "execution_count": 40
        }
      ]
    },
    {
      "cell_type": "code",
      "metadata": {
        "id": "8mlpw6ykReKT",
        "colab_type": "code",
        "colab": {}
      },
      "source": [
        ""
      ],
      "execution_count": 0,
      "outputs": []
    }
  ]
}