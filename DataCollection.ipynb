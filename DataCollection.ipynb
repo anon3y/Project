{
  "nbformat": 4,
  "nbformat_minor": 0,
  "metadata": {
    "colab": {
      "name": "DataCollection.ipynb",
      "version": "0.3.2",
      "provenance": [],
      "collapsed_sections": []
    },
    "kernelspec": {
      "name": "python3",
      "display_name": "Python 3"
    }
  },
  "cells": [
    {
      "cell_type": "markdown",
      "metadata": {
        "id": "h_izZTSdKxok",
        "colab_type": "text"
      },
      "source": [
        "<b> 24 folders are Uploded into G drive for each actor (contains 1440 files: 60 trials per actor x 24 actors = 1440, total files). First we mount G drive into the colab for accessing the .wav files<b>"
      ]
    },
    {
      "cell_type": "code",
      "metadata": {
        "id": "85S1kgUtLFET",
        "colab_type": "code",
        "colab": {}
      },
      "source": [
        "from google.colab import drive\n",
        "drive.mount('/content/gdrive')\n"
      ],
      "execution_count": 0,
      "outputs": []
    },
    {
      "cell_type": "markdown",
      "metadata": {
        "id": "tWZzKp4MKrMi",
        "colab_type": "text"
      },
      "source": [
        "<b> The Encoding of the files are as follows <a href=\"https://zenodo.org/record/1188976#.XSF23-hKiM9\">RAVDESS</a></b>\n",
        "\n",
        "   <li>Modality (01 = full-AV, 02 = video-only, 03 = audio-only).</li>\n",
        "    <li>Vocal channel (01 = speech, 02 = song).</li>\n",
        "    <li>Emotion (01 = neutral, 02 = calm, 03 = happy, 04 = sad, 05 = angry, 06 = fearful, 07 = disgust, 08 = surprised).</li>\n",
        "    <li>Emotional intensity (01 = normal, 02 = strong). NOTE: There is no strong intensity for the ‘neutral’ emotion.</li>\n",
        "    <li>Statement (01 = “Kids are talking by the door”, 02 = “Dogs are sitting by the door”).</li>\n",
        "    <li>Repetition (01 = 1st repetition, 02 = 2nd repetition).</li>\n",
        "    <li>Actor (01 to 24. Odd numbered actors are male, even numbered actors are female).</li>\n",
        "\n",
        "\n",
        "\n",
        "<b>Filename example: 02-01-06-01-02-01-12.mp4</b>\n",
        "\n",
        "<li>Video-only (02)\n",
        "Speech (01)\n",
        "Fearful (06)\n",
        "Normal intensity (01)\n",
        "Statement \"dogs\" (02)\n",
        "1st Repetition (01)\n",
        "12th Actor (12)\n",
        "Female, as the actor ID number is even.</li>\n",
        "\n",
        "\n",
        "<b> Some common Sound related terms</b>\n",
        "\n",
        "<b>Audio Frame</b>\n",
        "<li>An audio frame, or sample, contains amplitude (loudness) information at that particular point in time. To produce sound, tens of thousands of frames are played in sequence to produce frequencies.</li>\n",
        "<b>Bit Rate</b>\n",
        "\n",
        "<li> refers to the audio quality of the stream. It is measured in Kilobitspersec(kbps or k). Bit rate is no of bits (data) encoded per second or the no. of bits transmitted or received per second. Higher the bit rate with more sampling rate, requires high bandwidth and produces good audio quality.<li>\n",
        "  \n",
        "  \n",
        "  \n",
        "<b>Sampling Rate </b>\n",
        "<li>Sampling rate (sometimes called sampling frequency or Fs) is the number of data points acquired per second. \n",
        "\n",
        "\n",
        " \n",
        "\n",
        "A sampling rate of 2000 samples/second means that 2000 discrete data points are acquired every second.  This can be referred to as 2000 Hertz sample frequency</li>\n"
      ]
    },
    {
      "cell_type": "code",
      "metadata": {
        "id": "9x4cK8dnKtDR",
        "colab_type": "code",
        "colab": {}
      },
      "source": [
        "### set Main directory for all the data\n",
        "Main_dir = '/content/gdrive/My Drive/sounds/Actor_'"
      ],
      "execution_count": 0,
      "outputs": []
    },
    {
      "cell_type": "code",
      "metadata": {
        "id": "o3AJLG-VMu-J",
        "colab_type": "code",
        "colab": {}
      },
      "source": [
        "### Import all Dependencies \n",
        "import time\n",
        "import matplotlib.pyplot as plt\n",
        "%matplotlib inline\n",
        "import librosa as lr\n",
        "from glob import glob\n",
        "import pandas as pd\n",
        "import numpy as np\n",
        "import IPython.display as ipd\n",
        "#audio,sfreq=lr.load(path,sr=None)\n",
        "import librosa.display"
      ],
      "execution_count": 0,
      "outputs": []
    },
    {
      "cell_type": "markdown",
      "metadata": {
        "id": "vfUcQwYDObT7",
        "colab_type": "text"
      },
      "source": [
        "<li>I read all the files from the directory using librosa to calculate sampling rate and audiot time series  and calculate duration of each for each wav file and store in a dictionary file_data, with file path as key and value as length of file. The second dictionary sampling_rate_file  has keys as path of files and value as sampling rate </li>"
      ]
    },
    {
      "cell_type": "code",
      "metadata": {
        "id": "rV3MhkPiNfPW",
        "colab_type": "code",
        "colab": {}
      },
      "source": [
        "### loop over 24 files, check length of file if length of file is 1 then add 0\n",
        "### to the prefix and add to the main directory for globing files for actors 01-09,\n",
        "### if lenght of files greater than 1 then add add to main directory for globing files for actor 10-24\n",
        "file_data,sampling_rate_file = {},{}\n",
        "for files in range(1,25):\n",
        "    if len(str(files))==1:\n",
        "        data_dir = Main_dir\n",
        "        data_dir = data_dir+str('0')+str(files)\n",
        "        #print(data_dir)\n",
        "    else:\n",
        "        data_dir = Main_dir\n",
        "        data_dir = data_dir+str(files)\n",
        "        #print(data_dir)\n",
        "    audio_files = glob(data_dir+'/*.wav')\n",
        "    for i in range(len(audio_files)):\n",
        "      x= audio_files[i]\n",
        "      audio,sfreq=lr.load(audio_files[i],sr=None)\n",
        "      file_data[x]= len(audio)/sfreq\n",
        "      sampling_rate_file[x]=sfreq"
      ],
      "execution_count": 0,
      "outputs": []
    },
    {
      "cell_type": "markdown",
      "metadata": {
        "id": "AEZfU0P_RkMU",
        "colab_type": "text"
      },
      "source": [
        "<li>check for some values of the dictinary for values of sampling_rate_file dictionary to view sample of sampling rates </li>\n"
      ]
    },
    {
      "cell_type": "code",
      "metadata": {
        "id": "5u13EYByOsVh",
        "colab_type": "code",
        "colab": {
          "base_uri": "https://localhost:8080/",
          "height": 35
        },
        "outputId": "4a31b2f1-c74e-45b2-a868-2aa7e54a750a"
      },
      "source": [
        "[sampling_rate_file[i] for i in list(sampling_rate_file.keys())[:10]]"
      ],
      "execution_count": 8,
      "outputs": [
        {
          "output_type": "execute_result",
          "data": {
            "text/plain": [
              "[48000, 48000, 48000, 48000, 48000, 48000, 48000, 48000, 48000, 48000]"
            ]
          },
          "metadata": {
            "tags": []
          },
          "execution_count": 8
        }
      ]
    },
    {
      "cell_type": "markdown",
      "metadata": {
        "id": "Xt8yKk_2SBiy",
        "colab_type": "text"
      },
      "source": [
        "<li> check if all values in the dictionary are 48000 or 48khz sampling rate </li>"
      ]
    },
    {
      "cell_type": "code",
      "metadata": {
        "id": "ybhbTFFAR_6Q",
        "colab_type": "code",
        "colab": {
          "base_uri": "https://localhost:8080/",
          "height": 35
        },
        "outputId": "0fb08451-9781-4edf-beec-d368be974234"
      },
      "source": [
        "all(value == 48000 for value in sampling_rate_file.values())"
      ],
      "execution_count": 10,
      "outputs": [
        {
          "output_type": "execute_result",
          "data": {
            "text/plain": [
              "True"
            ]
          },
          "metadata": {
            "tags": []
          },
          "execution_count": 10
        }
      ]
    },
    {
      "cell_type": "code",
      "metadata": {
        "id": "T4YcXUYFSnwc",
        "colab_type": "code",
        "colab": {}
      },
      "source": [
        "## Create a Data Frame with file path as indexes and lengthofile column as lenght of each file in seconds\n",
        "\n",
        "data_df=pd.DataFrame()\n",
        "for keys,values in file_data.items():\n",
        "    data_df.at[keys,'lengthoffile']=values"
      ],
      "execution_count": 0,
      "outputs": []
    },
    {
      "cell_type": "code",
      "metadata": {
        "id": "ZA8uk29GS9a-",
        "colab_type": "code",
        "colab": {
          "base_uri": "https://localhost:8080/",
          "height": 385
        },
        "outputId": "25db225d-3bc3-47c3-99fc-ba1fb0c4bf1c"
      },
      "source": [
        "### preview Data Frame\n",
        "print('shape of the data frame is {data_df.shape}')\n",
        "print('preview of data Frame')\n",
        "data_df.head(10)"
      ],
      "execution_count": 14,
      "outputs": [
        {
          "output_type": "stream",
          "text": [
            "shape of the data frame is {data_df.shape}\n",
            "preview of data Frame\n"
          ],
          "name": "stdout"
        },
        {
          "output_type": "execute_result",
          "data": {
            "text/html": [
              "<div>\n",
              "<style scoped>\n",
              "    .dataframe tbody tr th:only-of-type {\n",
              "        vertical-align: middle;\n",
              "    }\n",
              "\n",
              "    .dataframe tbody tr th {\n",
              "        vertical-align: top;\n",
              "    }\n",
              "\n",
              "    .dataframe thead th {\n",
              "        text-align: right;\n",
              "    }\n",
              "</style>\n",
              "<table border=\"1\" class=\"dataframe\">\n",
              "  <thead>\n",
              "    <tr style=\"text-align: right;\">\n",
              "      <th></th>\n",
              "      <th>lengthoffile</th>\n",
              "    </tr>\n",
              "  </thead>\n",
              "  <tbody>\n",
              "    <tr>\n",
              "      <th>/content/gdrive/My Drive/sounds/Actor_01/03-01-01-01-01-01-01.wav</th>\n",
              "      <td>3.303292</td>\n",
              "    </tr>\n",
              "    <tr>\n",
              "      <th>/content/gdrive/My Drive/sounds/Actor_01/03-01-01-01-01-02-01.wav</th>\n",
              "      <td>3.336667</td>\n",
              "    </tr>\n",
              "    <tr>\n",
              "      <th>/content/gdrive/My Drive/sounds/Actor_01/03-01-01-01-02-01-01.wav</th>\n",
              "      <td>3.269917</td>\n",
              "    </tr>\n",
              "    <tr>\n",
              "      <th>/content/gdrive/My Drive/sounds/Actor_01/03-01-02-01-01-01-01.wav</th>\n",
              "      <td>3.536854</td>\n",
              "    </tr>\n",
              "    <tr>\n",
              "      <th>/content/gdrive/My Drive/sounds/Actor_01/03-01-02-01-01-02-01.wav</th>\n",
              "      <td>3.603583</td>\n",
              "    </tr>\n",
              "    <tr>\n",
              "      <th>/content/gdrive/My Drive/sounds/Actor_01/03-01-01-01-02-02-01.wav</th>\n",
              "      <td>3.169833</td>\n",
              "    </tr>\n",
              "    <tr>\n",
              "      <th>/content/gdrive/My Drive/sounds/Actor_01/03-01-02-01-02-01-01.wav</th>\n",
              "      <td>3.503500</td>\n",
              "    </tr>\n",
              "    <tr>\n",
              "      <th>/content/gdrive/My Drive/sounds/Actor_01/03-01-03-01-01-02-01.wav</th>\n",
              "      <td>3.470125</td>\n",
              "    </tr>\n",
              "    <tr>\n",
              "      <th>/content/gdrive/My Drive/sounds/Actor_01/03-01-02-02-01-01-01.wav</th>\n",
              "      <td>3.703708</td>\n",
              "    </tr>\n",
              "    <tr>\n",
              "      <th>/content/gdrive/My Drive/sounds/Actor_01/03-01-02-01-02-02-01.wav</th>\n",
              "      <td>3.470146</td>\n",
              "    </tr>\n",
              "  </tbody>\n",
              "</table>\n",
              "</div>"
            ],
            "text/plain": [
              "                                                    lengthoffile\n",
              "/content/gdrive/My Drive/sounds/Actor_01/03-01-...      3.303292\n",
              "/content/gdrive/My Drive/sounds/Actor_01/03-01-...      3.336667\n",
              "/content/gdrive/My Drive/sounds/Actor_01/03-01-...      3.269917\n",
              "/content/gdrive/My Drive/sounds/Actor_01/03-01-...      3.536854\n",
              "/content/gdrive/My Drive/sounds/Actor_01/03-01-...      3.603583\n",
              "/content/gdrive/My Drive/sounds/Actor_01/03-01-...      3.169833\n",
              "/content/gdrive/My Drive/sounds/Actor_01/03-01-...      3.503500\n",
              "/content/gdrive/My Drive/sounds/Actor_01/03-01-...      3.470125\n",
              "/content/gdrive/My Drive/sounds/Actor_01/03-01-...      3.703708\n",
              "/content/gdrive/My Drive/sounds/Actor_01/03-01-...      3.470146"
            ]
          },
          "metadata": {
            "tags": []
          },
          "execution_count": 14
        }
      ]
    },
    {
      "cell_type": "markdown",
      "metadata": {
        "id": "EetUvi_8U1W4",
        "colab_type": "text"
      },
      "source": [
        "###Explore data for  one sample File\n",
        "<li> by rule of Encoding odd number are male Male_file = data_df.index[0]</li>\n",
        "\n",
        "As per documentation ( <a href= \"https://librosa.github.io/librosa/generated/librosa.core.load.html\"> librosa</a>)\n",
        "load function retruns \n",
        "\n",
        "\n",
        "<li>y:np.ndarray [shape=(n,) or (2, n)],audio time series</li>\n",
        "\n",
        "<li>sr:number > 0 [scalar] sampling rate of y</li>"
      ]
    },
    {
      "cell_type": "code",
      "metadata": {
        "id": "Nb1_SUu1U6X0",
        "colab_type": "code",
        "colab": {
          "base_uri": "https://localhost:8080/",
          "height": 35
        },
        "outputId": "a2933d22-a581-42a9-9d70-df5211cace90"
      },
      "source": [
        "audio,sfreq=audio_data(data_df.index[0])\n",
        "print(f'shape of audio time series {audio.shape} sampling rate {sfreq}')"
      ],
      "execution_count": 18,
      "outputs": [
        {
          "output_type": "stream",
          "text": [
            "shape of audio time series (158558,) sampling rate 48000\n"
          ],
          "name": "stdout"
        }
      ]
    },
    {
      "cell_type": "markdown",
      "metadata": {
        "id": "upEuBu3ETuew",
        "colab_type": "text"
      },
      "source": [
        "### Goal: Using the Audio time series returned by librosa.load function we Extract mfcc for each file and use file name encoding to extract labels for data"
      ]
    },
    {
      "cell_type": "markdown",
      "metadata": {
        "id": "RF-GjtxITnZW",
        "colab_type": "text"
      },
      "source": [
        "<b> mfcc </b>\n",
        "\n",
        "The mel-frequency cepstral coefficients are computed over a window, i.e. number of samples. Sound is wave and one cannot derive any features by taking a single sample (number), hence the window.\n",
        "\n",
        "To compute MFCC, fast Fourier transform (FFT) is used and that exactly requires that length of a window is provided. In librosa , the below are implicit specifically:  \n",
        "<li>length of the FFT window: 2048</li>\n",
        "<li>number of samples between successive frames: 512</li>\n",
        "\n",
        "If a cepstral coefficient has a positive value, it represents a sonorant sound since the majority of the spectral energy in sonorant sounds are concentrated in the low-frequency regions.\n",
        "- On the other hand, if a cepstral coefficient has a negative value, it represents a fricative sound since most of the spectral energies in fricative sounds are concentrated at high frequencies.\n",
        "- The lower order coefficients contain most of the information about the overall spectral shape of the source-filter transfer function.\n",
        "- The zero-order coefficient indicates the average power of the input signal.\n",
        "- The first-order coefficient represents the distribution spectral energy between low and high frequencies.\n"
      ]
    },
    {
      "cell_type": "code",
      "metadata": {
        "id": "ub7LHW8hSWne",
        "colab_type": "code",
        "colab": {}
      },
      "source": [
        "### Create a Function to return the Aduio Data samples and Sampling rate for each file\n",
        "def audio_data(file):\n",
        "  audio,sfreq = lr.load(file,sr=None)\n",
        "  return audio,sfreq\n",
        "\n",
        "\n",
        "\n",
        "### Create a function to extract Mfcc for a given file\n",
        "def mfcc_extract(file):\n",
        "  audio,sfreq = audio_data(file)\n",
        "  mfccs = librosa.feature.mfcc(audio, sr=sfreq)\n",
        "  return mfccs\n"
      ],
      "execution_count": 0,
      "outputs": []
    },
    {
      "cell_type": "markdown",
      "metadata": {
        "id": "9GRjmQVWXy3Z",
        "colab_type": "text"
      },
      "source": [
        "<b> Extract a mfcc from one sample file and explore the data</b>"
      ]
    },
    {
      "cell_type": "code",
      "metadata": {
        "id": "XMA_CZJIYAML",
        "colab_type": "code",
        "colab": {
          "base_uri": "https://localhost:8080/",
          "height": 35
        },
        "outputId": "ea936cdc-85b6-448f-f612-05a10d20d97c"
      },
      "source": [
        "\n",
        "print(f'the shape of sample file  mfccs is {mfcc_extract(data_df.index[0]).shape}')"
      ],
      "execution_count": 26,
      "outputs": [
        {
          "output_type": "stream",
          "text": [
            "the shape of sample file  mfccs is (20, 310)\n"
          ],
          "name": "stdout"
        }
      ]
    },
    {
      "cell_type": "markdown",
      "metadata": {
        "id": "cQvIxF6tXqLM",
        "colab_type": "text"
      },
      "source": [
        "<li> The Shape for the male sample file gives us 20 coefficents/features  and 310 samples. using sampling rate as 48000 and audio time duration as 3.3 seconds ( rounded), we can calulcate nfcc = len*sampling/window = (3.3*48000)/512 ~310 i.e the shape we get from librosa.feature.mfcc, similarily we can arrive at the shape returned for the female file as we can see they are not balanced arrays</li>\n",
        "\n",
        "\n",
        "### Create a data frame with all mfcc data from 1440 files and Extract labels from the encoding as descibed above\n",
        "\n",
        "<li>Create a list of data frames from mfcc, add a columns for coding of actor files\n",
        "concat the data frames for final data frame which hold all the data from 1440 filesl</li>"
      ]
    },
    {
      "cell_type": "code",
      "metadata": {
        "id": "dJarJKp_Ygej",
        "colab_type": "code",
        "colab": {}
      },
      "source": [
        "### Empty list\n",
        "list_data_frame=[]\n",
        "### Loop over each file path in Data_df dataframe\n",
        "for file_path in data_df.index:\n",
        "  data=mfcc_extract(file_path)### call mfcc extract to return mfcc coeffcients and data\n",
        "  frame=pd.DataFrame(data.T,columns=['mfcc'+str(x) for x in range(0,20)])#### Transform data into (nsamples,n features)\n",
        "  frame['Actor_Gender_code'] = file_path[38:40]### Extract Actor Gender from file name using defined Encoding\n",
        "  frame['Emotion_code']=file_path[47:49] #### Extract Emotion code from file name using defined encoding\n",
        "  frame['Emotional_intensity_code']=file_path[50:52] #### Extract Emotional Intensity code using identified encoding\n",
        "  list_data_frame.append(frame)\n",
        "  \n",
        "  \n",
        "  \n",
        "### Final Data Frame\n",
        "merged_df = pd.concat(list_data_frame,ignore_index=True) \n",
        "  "
      ],
      "execution_count": 0,
      "outputs": []
    },
    {
      "cell_type": "markdown",
      "metadata": {
        "id": "8DYenw0Ocjoo",
        "colab_type": "text"
      },
      "source": [
        "<li> Preview the Data </li>\n"
      ]
    },
    {
      "cell_type": "code",
      "metadata": {
        "id": "GbEZgVKDa2As",
        "colab_type": "code",
        "colab": {
          "base_uri": "https://localhost:8080/",
          "height": 236
        },
        "outputId": "0c6fb220-26c9-4366-beba-0298c1aa9d46"
      },
      "source": [
        "print(f'shape of the final data frame {merged_df.shape}, we see the number of samples over 20 features/MFCC is {merged_df.shape[0]}')\n",
        "merged_df.head()\n"
      ],
      "execution_count": 36,
      "outputs": [
        {
          "output_type": "stream",
          "text": [
            "shape of the final data frame (500286, 23), we see the number of samples over 20 features/MFCC is 500286\n"
          ],
          "name": "stdout"
        },
        {
          "output_type": "execute_result",
          "data": {
            "text/html": [
              "<div>\n",
              "<style scoped>\n",
              "    .dataframe tbody tr th:only-of-type {\n",
              "        vertical-align: middle;\n",
              "    }\n",
              "\n",
              "    .dataframe tbody tr th {\n",
              "        vertical-align: top;\n",
              "    }\n",
              "\n",
              "    .dataframe thead th {\n",
              "        text-align: right;\n",
              "    }\n",
              "</style>\n",
              "<table border=\"1\" class=\"dataframe\">\n",
              "  <thead>\n",
              "    <tr style=\"text-align: right;\">\n",
              "      <th></th>\n",
              "      <th>mfcc0</th>\n",
              "      <th>mfcc1</th>\n",
              "      <th>mfcc2</th>\n",
              "      <th>mfcc3</th>\n",
              "      <th>mfcc4</th>\n",
              "      <th>mfcc5</th>\n",
              "      <th>mfcc6</th>\n",
              "      <th>mfcc7</th>\n",
              "      <th>mfcc8</th>\n",
              "      <th>mfcc9</th>\n",
              "      <th>mfcc10</th>\n",
              "      <th>mfcc11</th>\n",
              "      <th>mfcc12</th>\n",
              "      <th>mfcc13</th>\n",
              "      <th>mfcc14</th>\n",
              "      <th>mfcc15</th>\n",
              "      <th>mfcc16</th>\n",
              "      <th>mfcc17</th>\n",
              "      <th>mfcc18</th>\n",
              "      <th>mfcc19</th>\n",
              "      <th>Actor_Gender_code</th>\n",
              "      <th>Emotion_code</th>\n",
              "      <th>Emotional_intensity_code</th>\n",
              "    </tr>\n",
              "  </thead>\n",
              "  <tbody>\n",
              "    <tr>\n",
              "      <th>0</th>\n",
              "      <td>-861.532578</td>\n",
              "      <td>0.0</td>\n",
              "      <td>0.0</td>\n",
              "      <td>0.0</td>\n",
              "      <td>0.0</td>\n",
              "      <td>0.0</td>\n",
              "      <td>0.0</td>\n",
              "      <td>0.0</td>\n",
              "      <td>0.0</td>\n",
              "      <td>0.0</td>\n",
              "      <td>0.0</td>\n",
              "      <td>0.0</td>\n",
              "      <td>0.0</td>\n",
              "      <td>0.0</td>\n",
              "      <td>0.0</td>\n",
              "      <td>0.0</td>\n",
              "      <td>0.0</td>\n",
              "      <td>0.0</td>\n",
              "      <td>0.0</td>\n",
              "      <td>0.0</td>\n",
              "      <td>01</td>\n",
              "      <td>01</td>\n",
              "      <td>01</td>\n",
              "    </tr>\n",
              "    <tr>\n",
              "      <th>1</th>\n",
              "      <td>-861.532578</td>\n",
              "      <td>0.0</td>\n",
              "      <td>0.0</td>\n",
              "      <td>0.0</td>\n",
              "      <td>0.0</td>\n",
              "      <td>0.0</td>\n",
              "      <td>0.0</td>\n",
              "      <td>0.0</td>\n",
              "      <td>0.0</td>\n",
              "      <td>0.0</td>\n",
              "      <td>0.0</td>\n",
              "      <td>0.0</td>\n",
              "      <td>0.0</td>\n",
              "      <td>0.0</td>\n",
              "      <td>0.0</td>\n",
              "      <td>0.0</td>\n",
              "      <td>0.0</td>\n",
              "      <td>0.0</td>\n",
              "      <td>0.0</td>\n",
              "      <td>0.0</td>\n",
              "      <td>01</td>\n",
              "      <td>01</td>\n",
              "      <td>01</td>\n",
              "    </tr>\n",
              "    <tr>\n",
              "      <th>2</th>\n",
              "      <td>-861.532578</td>\n",
              "      <td>0.0</td>\n",
              "      <td>0.0</td>\n",
              "      <td>0.0</td>\n",
              "      <td>0.0</td>\n",
              "      <td>0.0</td>\n",
              "      <td>0.0</td>\n",
              "      <td>0.0</td>\n",
              "      <td>0.0</td>\n",
              "      <td>0.0</td>\n",
              "      <td>0.0</td>\n",
              "      <td>0.0</td>\n",
              "      <td>0.0</td>\n",
              "      <td>0.0</td>\n",
              "      <td>0.0</td>\n",
              "      <td>0.0</td>\n",
              "      <td>0.0</td>\n",
              "      <td>0.0</td>\n",
              "      <td>0.0</td>\n",
              "      <td>0.0</td>\n",
              "      <td>01</td>\n",
              "      <td>01</td>\n",
              "      <td>01</td>\n",
              "    </tr>\n",
              "    <tr>\n",
              "      <th>3</th>\n",
              "      <td>-861.532578</td>\n",
              "      <td>0.0</td>\n",
              "      <td>0.0</td>\n",
              "      <td>0.0</td>\n",
              "      <td>0.0</td>\n",
              "      <td>0.0</td>\n",
              "      <td>0.0</td>\n",
              "      <td>0.0</td>\n",
              "      <td>0.0</td>\n",
              "      <td>0.0</td>\n",
              "      <td>0.0</td>\n",
              "      <td>0.0</td>\n",
              "      <td>0.0</td>\n",
              "      <td>0.0</td>\n",
              "      <td>0.0</td>\n",
              "      <td>0.0</td>\n",
              "      <td>0.0</td>\n",
              "      <td>0.0</td>\n",
              "      <td>0.0</td>\n",
              "      <td>0.0</td>\n",
              "      <td>01</td>\n",
              "      <td>01</td>\n",
              "      <td>01</td>\n",
              "    </tr>\n",
              "    <tr>\n",
              "      <th>4</th>\n",
              "      <td>-861.532578</td>\n",
              "      <td>0.0</td>\n",
              "      <td>0.0</td>\n",
              "      <td>0.0</td>\n",
              "      <td>0.0</td>\n",
              "      <td>0.0</td>\n",
              "      <td>0.0</td>\n",
              "      <td>0.0</td>\n",
              "      <td>0.0</td>\n",
              "      <td>0.0</td>\n",
              "      <td>0.0</td>\n",
              "      <td>0.0</td>\n",
              "      <td>0.0</td>\n",
              "      <td>0.0</td>\n",
              "      <td>0.0</td>\n",
              "      <td>0.0</td>\n",
              "      <td>0.0</td>\n",
              "      <td>0.0</td>\n",
              "      <td>0.0</td>\n",
              "      <td>0.0</td>\n",
              "      <td>01</td>\n",
              "      <td>01</td>\n",
              "      <td>01</td>\n",
              "    </tr>\n",
              "  </tbody>\n",
              "</table>\n",
              "</div>"
            ],
            "text/plain": [
              "        mfcc0  mfcc1  ...  Emotion_code  Emotional_intensity_code\n",
              "0 -861.532578    0.0  ...            01                        01\n",
              "1 -861.532578    0.0  ...            01                        01\n",
              "2 -861.532578    0.0  ...            01                        01\n",
              "3 -861.532578    0.0  ...            01                        01\n",
              "4 -861.532578    0.0  ...            01                        01\n",
              "\n",
              "[5 rows x 23 columns]"
            ]
          },
          "metadata": {
            "tags": []
          },
          "execution_count": 36
        }
      ]
    },
    {
      "cell_type": "markdown",
      "metadata": {
        "id": "2ufraWShdpLp",
        "colab_type": "text"
      },
      "source": [
        "<b>Create labels for Gender,emotion and emotion intensity from the code derived </b>"
      ]
    },
    {
      "cell_type": "code",
      "metadata": {
        "id": "slP9jPJ2cohd",
        "colab_type": "code",
        "colab": {}
      },
      "source": [
        "### Create Male female from gender code , odd is male and even is female\n",
        "merged_df[\"Gender_label\"] = list(map(lambda x: 'Male' if int(x)%2==1 else 'Female',merged_df.Actor_Gender_code))\n",
        "\n",
        "### Emotion label for various classes \n",
        "merged_df['Emotion_label']=merged_df.Emotion_code.map({'01':'neutral','02':'calm','03':'happy','04':'sad','05':'angry','06':'fearful','07':'disgust','08':'surprised'})\n",
        "### Emotional Intensity normal or strong\n",
        "merged_df['Intensity_label']=merged_df.Emotional_intensity_code.map({'01':'normal','02':'strong'})"
      ],
      "execution_count": 0,
      "outputs": []
    },
    {
      "cell_type": "markdown",
      "metadata": {
        "id": "XMbfCnQkfMmu",
        "colab_type": "text"
      },
      "source": [
        "<li><b>Preview data </b></li>"
      ]
    },
    {
      "cell_type": "code",
      "metadata": {
        "id": "OKbiOT2XemK6",
        "colab_type": "code",
        "colab": {
          "base_uri": "https://localhost:8080/",
          "height": 368
        },
        "outputId": "dea7ccdc-7b61-4b65-8d86-537b9ca1c519"
      },
      "source": [
        "\n",
        "merged_df.tail(10)"
      ],
      "execution_count": 41,
      "outputs": [
        {
          "output_type": "execute_result",
          "data": {
            "text/html": [
              "<div>\n",
              "<style scoped>\n",
              "    .dataframe tbody tr th:only-of-type {\n",
              "        vertical-align: middle;\n",
              "    }\n",
              "\n",
              "    .dataframe tbody tr th {\n",
              "        vertical-align: top;\n",
              "    }\n",
              "\n",
              "    .dataframe thead th {\n",
              "        text-align: right;\n",
              "    }\n",
              "</style>\n",
              "<table border=\"1\" class=\"dataframe\">\n",
              "  <thead>\n",
              "    <tr style=\"text-align: right;\">\n",
              "      <th></th>\n",
              "      <th>mfcc0</th>\n",
              "      <th>mfcc1</th>\n",
              "      <th>mfcc2</th>\n",
              "      <th>mfcc3</th>\n",
              "      <th>mfcc4</th>\n",
              "      <th>mfcc5</th>\n",
              "      <th>mfcc6</th>\n",
              "      <th>mfcc7</th>\n",
              "      <th>mfcc8</th>\n",
              "      <th>mfcc9</th>\n",
              "      <th>mfcc10</th>\n",
              "      <th>mfcc11</th>\n",
              "      <th>mfcc12</th>\n",
              "      <th>mfcc13</th>\n",
              "      <th>mfcc14</th>\n",
              "      <th>mfcc15</th>\n",
              "      <th>mfcc16</th>\n",
              "      <th>mfcc17</th>\n",
              "      <th>mfcc18</th>\n",
              "      <th>mfcc19</th>\n",
              "      <th>Actor_Gender_code</th>\n",
              "      <th>Emotion_code</th>\n",
              "      <th>Emotional_intensity_code</th>\n",
              "      <th>Gender_label</th>\n",
              "      <th>Emotion_label</th>\n",
              "      <th>Intensity_label</th>\n",
              "    </tr>\n",
              "  </thead>\n",
              "  <tbody>\n",
              "    <tr>\n",
              "      <th>500276</th>\n",
              "      <td>-689.920585</td>\n",
              "      <td>8.210541</td>\n",
              "      <td>8.121399</td>\n",
              "      <td>7.978220</td>\n",
              "      <td>7.788671</td>\n",
              "      <td>7.562674</td>\n",
              "      <td>7.311673</td>\n",
              "      <td>7.047788</td>\n",
              "      <td>6.782929</td>\n",
              "      <td>6.527924</td>\n",
              "      <td>6.291747</td>\n",
              "      <td>6.080888</td>\n",
              "      <td>5.898917</td>\n",
              "      <td>5.746284</td>\n",
              "      <td>5.620354</td>\n",
              "      <td>5.515684</td>\n",
              "      <td>5.424521</td>\n",
              "      <td>5.337472</td>\n",
              "      <td>5.244302</td>\n",
              "      <td>5.134797</td>\n",
              "      <td>24</td>\n",
              "      <td>08</td>\n",
              "      <td>02</td>\n",
              "      <td>Female</td>\n",
              "      <td>surprised</td>\n",
              "      <td>strong</td>\n",
              "    </tr>\n",
              "    <tr>\n",
              "      <th>500277</th>\n",
              "      <td>-691.880154</td>\n",
              "      <td>5.463201</td>\n",
              "      <td>5.444165</td>\n",
              "      <td>5.412559</td>\n",
              "      <td>5.368562</td>\n",
              "      <td>5.312420</td>\n",
              "      <td>5.244452</td>\n",
              "      <td>5.165036</td>\n",
              "      <td>5.074617</td>\n",
              "      <td>4.973695</td>\n",
              "      <td>4.862827</td>\n",
              "      <td>4.742618</td>\n",
              "      <td>4.613721</td>\n",
              "      <td>4.476828</td>\n",
              "      <td>4.332666</td>\n",
              "      <td>4.181992</td>\n",
              "      <td>4.025587</td>\n",
              "      <td>3.864251</td>\n",
              "      <td>3.698794</td>\n",
              "      <td>3.530033</td>\n",
              "      <td>24</td>\n",
              "      <td>08</td>\n",
              "      <td>02</td>\n",
              "      <td>Female</td>\n",
              "      <td>surprised</td>\n",
              "      <td>strong</td>\n",
              "    </tr>\n",
              "    <tr>\n",
              "      <th>500278</th>\n",
              "      <td>-691.858668</td>\n",
              "      <td>5.490103</td>\n",
              "      <td>5.460660</td>\n",
              "      <td>5.411840</td>\n",
              "      <td>5.344022</td>\n",
              "      <td>5.257730</td>\n",
              "      <td>5.153626</td>\n",
              "      <td>5.032511</td>\n",
              "      <td>4.895309</td>\n",
              "      <td>4.743064</td>\n",
              "      <td>4.576927</td>\n",
              "      <td>4.398148</td>\n",
              "      <td>4.208059</td>\n",
              "      <td>4.008068</td>\n",
              "      <td>3.799639</td>\n",
              "      <td>3.584285</td>\n",
              "      <td>3.363549</td>\n",
              "      <td>3.138990</td>\n",
              "      <td>2.912174</td>\n",
              "      <td>2.684652</td>\n",
              "      <td>24</td>\n",
              "      <td>08</td>\n",
              "      <td>02</td>\n",
              "      <td>Female</td>\n",
              "      <td>surprised</td>\n",
              "      <td>strong</td>\n",
              "    </tr>\n",
              "    <tr>\n",
              "      <th>500279</th>\n",
              "      <td>-691.228681</td>\n",
              "      <td>6.379412</td>\n",
              "      <td>6.345112</td>\n",
              "      <td>6.288286</td>\n",
              "      <td>6.209442</td>\n",
              "      <td>6.109281</td>\n",
              "      <td>5.988692</td>\n",
              "      <td>5.848737</td>\n",
              "      <td>5.690643</td>\n",
              "      <td>5.515785</td>\n",
              "      <td>5.325669</td>\n",
              "      <td>5.121918</td>\n",
              "      <td>4.906248</td>\n",
              "      <td>4.680453</td>\n",
              "      <td>4.446383</td>\n",
              "      <td>4.205921</td>\n",
              "      <td>3.960964</td>\n",
              "      <td>3.713404</td>\n",
              "      <td>3.465103</td>\n",
              "      <td>3.217877</td>\n",
              "      <td>24</td>\n",
              "      <td>08</td>\n",
              "      <td>02</td>\n",
              "      <td>Female</td>\n",
              "      <td>surprised</td>\n",
              "      <td>strong</td>\n",
              "    </tr>\n",
              "    <tr>\n",
              "      <th>500280</th>\n",
              "      <td>-692.569667</td>\n",
              "      <td>4.481327</td>\n",
              "      <td>4.442905</td>\n",
              "      <td>4.381834</td>\n",
              "      <td>4.302277</td>\n",
              "      <td>4.209530</td>\n",
              "      <td>4.109539</td>\n",
              "      <td>4.008371</td>\n",
              "      <td>3.911672</td>\n",
              "      <td>3.824170</td>\n",
              "      <td>3.749271</td>\n",
              "      <td>3.688774</td>\n",
              "      <td>3.642742</td>\n",
              "      <td>3.609540</td>\n",
              "      <td>3.586025</td>\n",
              "      <td>3.567888</td>\n",
              "      <td>3.550092</td>\n",
              "      <td>3.527388</td>\n",
              "      <td>3.494843</td>\n",
              "      <td>3.448341</td>\n",
              "      <td>24</td>\n",
              "      <td>08</td>\n",
              "      <td>02</td>\n",
              "      <td>Female</td>\n",
              "      <td>surprised</td>\n",
              "      <td>strong</td>\n",
              "    </tr>\n",
              "    <tr>\n",
              "      <th>500281</th>\n",
              "      <td>-693.609022</td>\n",
              "      <td>3.021236</td>\n",
              "      <td>3.011290</td>\n",
              "      <td>2.994892</td>\n",
              "      <td>2.972303</td>\n",
              "      <td>2.943883</td>\n",
              "      <td>2.910079</td>\n",
              "      <td>2.871417</td>\n",
              "      <td>2.828491</td>\n",
              "      <td>2.781950</td>\n",
              "      <td>2.732479</td>\n",
              "      <td>2.680791</td>\n",
              "      <td>2.627607</td>\n",
              "      <td>2.573642</td>\n",
              "      <td>2.519586</td>\n",
              "      <td>2.466096</td>\n",
              "      <td>2.413777</td>\n",
              "      <td>2.363167</td>\n",
              "      <td>2.314735</td>\n",
              "      <td>2.268863</td>\n",
              "      <td>24</td>\n",
              "      <td>08</td>\n",
              "      <td>02</td>\n",
              "      <td>Female</td>\n",
              "      <td>surprised</td>\n",
              "      <td>strong</td>\n",
              "    </tr>\n",
              "    <tr>\n",
              "      <th>500282</th>\n",
              "      <td>-691.884404</td>\n",
              "      <td>5.430296</td>\n",
              "      <td>5.332270</td>\n",
              "      <td>5.174513</td>\n",
              "      <td>4.964974</td>\n",
              "      <td>4.713867</td>\n",
              "      <td>4.432866</td>\n",
              "      <td>4.134216</td>\n",
              "      <td>3.829841</td>\n",
              "      <td>3.530532</td>\n",
              "      <td>3.245297</td>\n",
              "      <td>2.980922</td>\n",
              "      <td>2.741782</td>\n",
              "      <td>2.529897</td>\n",
              "      <td>2.345226</td>\n",
              "      <td>2.186138</td>\n",
              "      <td>2.050018</td>\n",
              "      <td>1.933900</td>\n",
              "      <td>1.835086</td>\n",
              "      <td>1.751647</td>\n",
              "      <td>24</td>\n",
              "      <td>08</td>\n",
              "      <td>02</td>\n",
              "      <td>Female</td>\n",
              "      <td>surprised</td>\n",
              "      <td>strong</td>\n",
              "    </tr>\n",
              "    <tr>\n",
              "      <th>500283</th>\n",
              "      <td>-692.399969</td>\n",
              "      <td>4.718255</td>\n",
              "      <td>4.670174</td>\n",
              "      <td>4.591483</td>\n",
              "      <td>4.484294</td>\n",
              "      <td>4.351463</td>\n",
              "      <td>4.196495</td>\n",
              "      <td>4.023424</td>\n",
              "      <td>3.836675</td>\n",
              "      <td>3.640924</td>\n",
              "      <td>3.440934</td>\n",
              "      <td>3.241409</td>\n",
              "      <td>3.046836</td>\n",
              "      <td>2.861345</td>\n",
              "      <td>2.688584</td>\n",
              "      <td>2.531609</td>\n",
              "      <td>2.392798</td>\n",
              "      <td>2.273796</td>\n",
              "      <td>2.175475</td>\n",
              "      <td>2.097935</td>\n",
              "      <td>24</td>\n",
              "      <td>08</td>\n",
              "      <td>02</td>\n",
              "      <td>Female</td>\n",
              "      <td>surprised</td>\n",
              "      <td>strong</td>\n",
              "    </tr>\n",
              "    <tr>\n",
              "      <th>500284</th>\n",
              "      <td>-694.268350</td>\n",
              "      <td>2.090835</td>\n",
              "      <td>2.086927</td>\n",
              "      <td>2.080427</td>\n",
              "      <td>2.071357</td>\n",
              "      <td>2.059745</td>\n",
              "      <td>2.045628</td>\n",
              "      <td>2.029049</td>\n",
              "      <td>2.010063</td>\n",
              "      <td>1.988728</td>\n",
              "      <td>1.965110</td>\n",
              "      <td>1.939285</td>\n",
              "      <td>1.911330</td>\n",
              "      <td>1.881334</td>\n",
              "      <td>1.849386</td>\n",
              "      <td>1.815585</td>\n",
              "      <td>1.780033</td>\n",
              "      <td>1.742835</td>\n",
              "      <td>1.704102</td>\n",
              "      <td>1.663949</td>\n",
              "      <td>24</td>\n",
              "      <td>08</td>\n",
              "      <td>02</td>\n",
              "      <td>Female</td>\n",
              "      <td>surprised</td>\n",
              "      <td>strong</td>\n",
              "    </tr>\n",
              "    <tr>\n",
              "      <th>500285</th>\n",
              "      <td>-692.471778</td>\n",
              "      <td>4.618038</td>\n",
              "      <td>4.574524</td>\n",
              "      <td>4.505245</td>\n",
              "      <td>4.414798</td>\n",
              "      <td>4.309120</td>\n",
              "      <td>4.195019</td>\n",
              "      <td>4.079656</td>\n",
              "      <td>3.969989</td>\n",
              "      <td>3.872242</td>\n",
              "      <td>3.791426</td>\n",
              "      <td>3.730959</td>\n",
              "      <td>3.692409</td>\n",
              "      <td>3.675385</td>\n",
              "      <td>3.677578</td>\n",
              "      <td>3.694948</td>\n",
              "      <td>3.722058</td>\n",
              "      <td>3.752502</td>\n",
              "      <td>3.779415</td>\n",
              "      <td>3.796019</td>\n",
              "      <td>24</td>\n",
              "      <td>08</td>\n",
              "      <td>02</td>\n",
              "      <td>Female</td>\n",
              "      <td>surprised</td>\n",
              "      <td>strong</td>\n",
              "    </tr>\n",
              "  </tbody>\n",
              "</table>\n",
              "</div>"
            ],
            "text/plain": [
              "             mfcc0     mfcc1  ...  Emotion_label  Intensity_label\n",
              "500276 -689.920585  8.210541  ...      surprised           strong\n",
              "500277 -691.880154  5.463201  ...      surprised           strong\n",
              "500278 -691.858668  5.490103  ...      surprised           strong\n",
              "500279 -691.228681  6.379412  ...      surprised           strong\n",
              "500280 -692.569667  4.481327  ...      surprised           strong\n",
              "500281 -693.609022  3.021236  ...      surprised           strong\n",
              "500282 -691.884404  5.430296  ...      surprised           strong\n",
              "500283 -692.399969  4.718255  ...      surprised           strong\n",
              "500284 -694.268350  2.090835  ...      surprised           strong\n",
              "500285 -692.471778  4.618038  ...      surprised           strong\n",
              "\n",
              "[10 rows x 26 columns]"
            ]
          },
          "metadata": {
            "tags": []
          },
          "execution_count": 41
        }
      ]
    },
    {
      "cell_type": "code",
      "metadata": {
        "id": "POaFHsI1fCFL",
        "colab_type": "code",
        "colab": {}
      },
      "source": [
        ""
      ],
      "execution_count": 0,
      "outputs": []
    }
  ]
}